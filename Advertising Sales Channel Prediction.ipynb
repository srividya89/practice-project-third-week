{
 "cells": [
  {
   "cell_type": "code",
   "execution_count": 54,
   "id": "9aed3567",
   "metadata": {},
   "outputs": [],
   "source": [
    "import pandas as pd\n",
    "import statistics\n",
    "import seaborn as sns\n",
    "from matplotlib import pyplot as plt\n",
    "import sklearn\n",
    "from sklearn.preprocessing import LabelEncoder,OneHotEncoder\n",
    "import warnings\n",
    "warnings.filterwarnings('ignore')\n",
    "url=\"https://raw.githubusercontent.com/dsrscientist/DSData/master/Advertising.csv\"\n",
    "\n",
    "\n",
    "\n"
   ]
  },
  {
   "cell_type": "code",
   "execution_count": 55,
   "id": "bf9c9e20",
   "metadata": {},
   "outputs": [],
   "source": [
    "df = pd.read_csv(url)\n",
    "df .to_csv(\"Advertising_Sales_Channel.csv\",sep='\\t')\n"
   ]
  },
  {
   "cell_type": "code",
   "execution_count": 56,
   "id": "751aebd5",
   "metadata": {},
   "outputs": [
    {
     "data": {
      "text/html": [
       "<div>\n",
       "<style scoped>\n",
       "    .dataframe tbody tr th:only-of-type {\n",
       "        vertical-align: middle;\n",
       "    }\n",
       "\n",
       "    .dataframe tbody tr th {\n",
       "        vertical-align: top;\n",
       "    }\n",
       "\n",
       "    .dataframe thead th {\n",
       "        text-align: right;\n",
       "    }\n",
       "</style>\n",
       "<table border=\"1\" class=\"dataframe\">\n",
       "  <thead>\n",
       "    <tr style=\"text-align: right;\">\n",
       "      <th></th>\n",
       "      <th>Unnamed: 0</th>\n",
       "      <th>TV</th>\n",
       "      <th>radio</th>\n",
       "      <th>newspaper</th>\n",
       "      <th>sales</th>\n",
       "    </tr>\n",
       "  </thead>\n",
       "  <tbody>\n",
       "    <tr>\n",
       "      <th>0</th>\n",
       "      <td>1</td>\n",
       "      <td>230.1</td>\n",
       "      <td>37.8</td>\n",
       "      <td>69.2</td>\n",
       "      <td>22.1</td>\n",
       "    </tr>\n",
       "    <tr>\n",
       "      <th>1</th>\n",
       "      <td>2</td>\n",
       "      <td>44.5</td>\n",
       "      <td>39.3</td>\n",
       "      <td>45.1</td>\n",
       "      <td>10.4</td>\n",
       "    </tr>\n",
       "    <tr>\n",
       "      <th>2</th>\n",
       "      <td>3</td>\n",
       "      <td>17.2</td>\n",
       "      <td>45.9</td>\n",
       "      <td>69.3</td>\n",
       "      <td>9.3</td>\n",
       "    </tr>\n",
       "    <tr>\n",
       "      <th>3</th>\n",
       "      <td>4</td>\n",
       "      <td>151.5</td>\n",
       "      <td>41.3</td>\n",
       "      <td>58.5</td>\n",
       "      <td>18.5</td>\n",
       "    </tr>\n",
       "    <tr>\n",
       "      <th>4</th>\n",
       "      <td>5</td>\n",
       "      <td>180.8</td>\n",
       "      <td>10.8</td>\n",
       "      <td>58.4</td>\n",
       "      <td>12.9</td>\n",
       "    </tr>\n",
       "    <tr>\n",
       "      <th>...</th>\n",
       "      <td>...</td>\n",
       "      <td>...</td>\n",
       "      <td>...</td>\n",
       "      <td>...</td>\n",
       "      <td>...</td>\n",
       "    </tr>\n",
       "    <tr>\n",
       "      <th>195</th>\n",
       "      <td>196</td>\n",
       "      <td>38.2</td>\n",
       "      <td>3.7</td>\n",
       "      <td>13.8</td>\n",
       "      <td>7.6</td>\n",
       "    </tr>\n",
       "    <tr>\n",
       "      <th>196</th>\n",
       "      <td>197</td>\n",
       "      <td>94.2</td>\n",
       "      <td>4.9</td>\n",
       "      <td>8.1</td>\n",
       "      <td>9.7</td>\n",
       "    </tr>\n",
       "    <tr>\n",
       "      <th>197</th>\n",
       "      <td>198</td>\n",
       "      <td>177.0</td>\n",
       "      <td>9.3</td>\n",
       "      <td>6.4</td>\n",
       "      <td>12.8</td>\n",
       "    </tr>\n",
       "    <tr>\n",
       "      <th>198</th>\n",
       "      <td>199</td>\n",
       "      <td>283.6</td>\n",
       "      <td>42.0</td>\n",
       "      <td>66.2</td>\n",
       "      <td>25.5</td>\n",
       "    </tr>\n",
       "    <tr>\n",
       "      <th>199</th>\n",
       "      <td>200</td>\n",
       "      <td>232.1</td>\n",
       "      <td>8.6</td>\n",
       "      <td>8.7</td>\n",
       "      <td>13.4</td>\n",
       "    </tr>\n",
       "  </tbody>\n",
       "</table>\n",
       "<p>200 rows × 5 columns</p>\n",
       "</div>"
      ],
      "text/plain": [
       "     Unnamed: 0     TV  radio  newspaper  sales\n",
       "0             1  230.1   37.8       69.2   22.1\n",
       "1             2   44.5   39.3       45.1   10.4\n",
       "2             3   17.2   45.9       69.3    9.3\n",
       "3             4  151.5   41.3       58.5   18.5\n",
       "4             5  180.8   10.8       58.4   12.9\n",
       "..          ...    ...    ...        ...    ...\n",
       "195         196   38.2    3.7       13.8    7.6\n",
       "196         197   94.2    4.9        8.1    9.7\n",
       "197         198  177.0    9.3        6.4   12.8\n",
       "198         199  283.6   42.0       66.2   25.5\n",
       "199         200  232.1    8.6        8.7   13.4\n",
       "\n",
       "[200 rows x 5 columns]"
      ]
     },
     "execution_count": 56,
     "metadata": {},
     "output_type": "execute_result"
    }
   ],
   "source": [
    "df"
   ]
  },
  {
   "cell_type": "markdown",
   "id": "0cf89186",
   "metadata": {},
   "source": [
    "here all columns are having continous data type in the dataset.so it is a Regression Problem"
   ]
  },
  {
   "cell_type": "code",
   "execution_count": 57,
   "id": "bb361c1d",
   "metadata": {},
   "outputs": [
    {
     "data": {
      "text/plain": [
       "Index(['Unnamed: 0', 'TV', 'radio', 'newspaper', 'sales'], dtype='object')"
      ]
     },
     "execution_count": 57,
     "metadata": {},
     "output_type": "execute_result"
    }
   ],
   "source": [
    "df.columns"
   ]
  },
  {
   "cell_type": "markdown",
   "id": "7c28fca4",
   "metadata": {},
   "source": [
    "Here TV,Radio,Newspaper and Sales are all the columns having continous data type.hence it is a Regression Problem."
   ]
  },
  {
   "cell_type": "code",
   "execution_count": 58,
   "id": "7cf956b5",
   "metadata": {},
   "outputs": [
    {
     "data": {
      "text/plain": [
       "(200, 5)"
      ]
     },
     "execution_count": 58,
     "metadata": {},
     "output_type": "execute_result"
    }
   ],
   "source": [
    "df.shape"
   ]
  },
  {
   "cell_type": "code",
   "execution_count": 59,
   "id": "758ec549",
   "metadata": {},
   "outputs": [
    {
     "data": {
      "text/plain": [
       "Unnamed: 0    0\n",
       "TV            0\n",
       "radio         0\n",
       "newspaper     0\n",
       "sales         0\n",
       "dtype: int64"
      ]
     },
     "execution_count": 59,
     "metadata": {},
     "output_type": "execute_result"
    }
   ],
   "source": [
    "#checks nulls values of columns if present any\n",
    "df.isnull().sum()"
   ]
  },
  {
   "cell_type": "code",
   "execution_count": 60,
   "id": "0ecc3453",
   "metadata": {},
   "outputs": [
    {
     "name": "stdout",
     "output_type": "stream",
     "text": [
      "<class 'pandas.core.frame.DataFrame'>\n",
      "RangeIndex: 200 entries, 0 to 199\n",
      "Data columns (total 5 columns):\n",
      " #   Column      Non-Null Count  Dtype  \n",
      "---  ------      --------------  -----  \n",
      " 0   Unnamed: 0  200 non-null    int64  \n",
      " 1   TV          200 non-null    float64\n",
      " 2   radio       200 non-null    float64\n",
      " 3   newspaper   200 non-null    float64\n",
      " 4   sales       200 non-null    float64\n",
      "dtypes: float64(4), int64(1)\n",
      "memory usage: 7.9 KB\n"
     ]
    }
   ],
   "source": [
    "df.info()"
   ]
  },
  {
   "cell_type": "code",
   "execution_count": 61,
   "id": "d2a02223",
   "metadata": {},
   "outputs": [
    {
     "data": {
      "text/plain": [
       "<AxesSubplot:xlabel='sales', ylabel='Count'>"
      ]
     },
     "execution_count": 61,
     "metadata": {},
     "output_type": "execute_result"
    },
    {
     "data": {
      "image/png": "[encoded data removed]",
      "text/plain": [
       "<Figure size 432x288 with 1 Axes>"
      ]
     },
     "metadata": {
      "needs_background": "light"
     },
     "output_type": "display_data"
    }
   ],
   "source": [
    "sns.histplot(data=df, x=\"sales\", kde=True)"
   ]
  },
  {
   "cell_type": "markdown",
   "id": "76e4aeae",
   "metadata": {},
   "source": [
    "the sales value(target) are high in range 10 to 18 and it is almost meeting normal distribution"
   ]
  },
  {
   "cell_type": "code",
   "execution_count": 62,
   "id": "b3955abe",
   "metadata": {},
   "outputs": [
    {
     "data": {
      "text/plain": [
       "<AxesSubplot:xlabel='newspaper', ylabel='Count'>"
      ]
     },
     "execution_count": 62,
     "metadata": {},
     "output_type": "execute_result"
    },
    {
     "data": {
      "image/png": "[encoded data removed]",
      "text/plain": [
       "<Figure size 432x288 with 1 Axes>"
      ]
     },
     "metadata": {
      "needs_background": "light"
     },
     "output_type": "display_data"
    }
   ],
   "source": [
    "sns.histplot(data=df, x=\"newspaper\", kde=True)"
   ]
  },
  {
   "cell_type": "markdown",
   "id": "f70bd7e3",
   "metadata": {},
   "source": [
    "the newspaper sales value is high in range 1  to 40.it is right skewed.becoz not not having sales more than 40 much"
   ]
  },
  {
   "cell_type": "code",
   "execution_count": 63,
   "id": "4d0b7302",
   "metadata": {},
   "outputs": [
    {
     "data": {
      "text/plain": [
       "<AxesSubplot:xlabel='radio', ylabel='Count'>"
      ]
     },
     "execution_count": 63,
     "metadata": {},
     "output_type": "execute_result"
    },
    {
     "data": {
      "image/png": "[encoded data removed]",
      "text/plain": [
       "<Figure size 432x288 with 1 Axes>"
      ]
     },
     "metadata": {
      "needs_background": "light"
     },
     "output_type": "display_data"
    }
   ],
   "source": [
    "sns.histplot(data=df, x=\"radio\", kde=True)"
   ]
  },
  {
   "cell_type": "markdown",
   "id": "914cce7d",
   "metadata": {},
   "source": [
    "sales through radio are always equal in range scale."
   ]
  },
  {
   "cell_type": "code",
   "execution_count": 64,
   "id": "e0191024",
   "metadata": {},
   "outputs": [
    {
     "data": {
      "text/plain": [
       "<AxesSubplot:xlabel='TV', ylabel='Count'>"
      ]
     },
     "execution_count": 64,
     "metadata": {},
     "output_type": "execute_result"
    },
    {
     "data": {
      "image/png": "[encoded data removed]",
      "text/plain": [
       "<Figure size 432x288 with 1 Axes>"
      ]
     },
     "metadata": {
      "needs_background": "light"
     },
     "output_type": "display_data"
    }
   ],
   "source": [
    "sns.histplot(data=df, x=\"TV\", kde=True)"
   ]
  },
  {
   "cell_type": "markdown",
   "id": "e8094086",
   "metadata": {},
   "source": [
    "sales through TV also almost being  equal in range only."
   ]
  },
  {
   "cell_type": "code",
   "execution_count": 65,
   "id": "950a637d",
   "metadata": {},
   "outputs": [
    {
     "data": {
      "image/png": "[encoded data removed]",
      "text/plain": [
       "<Figure size 360x360 with 4 Axes>"
      ]
     },
     "metadata": {
      "needs_background": "light"
     },
     "output_type": "display_data"
    }
   ],
   "source": [
    "fig, axs = plt.subplots(4, figsize = (5,5))\n",
    "plt1 = sns.boxplot(df['TV'], ax = axs[0])\n",
    "plt2 = sns.boxplot(df['newspaper'], ax = axs[1])\n",
    "plt3 = sns.boxplot(df['radio'], ax = axs[2])\n",
    "plt4 = sns.boxplot(df['sales'], ax = axs[3])\n",
    "plt.tight_layout()\n"
   ]
  },
  {
   "cell_type": "markdown",
   "id": "389e24b5",
   "metadata": {},
   "source": [
    "here TV has high sales value around 150\n",
    "newspaper has high sales value around 30\n",
    "radio has high sales value around 25\n",
    "so total sales through all these are high in value around 12"
   ]
  },
  {
   "cell_type": "code",
   "execution_count": 66,
   "id": "216937c3",
   "metadata": {},
   "outputs": [
    {
     "data": {
      "image/png": "[encoded data removed]",
      "text/plain": [
       "<Figure size 864x288 with 3 Axes>"
      ]
     },
     "metadata": {
      "needs_background": "light"
     },
     "output_type": "display_data"
    }
   ],
   "source": [
    "# Let's see how Sales are related with other variables using scatter plot.\n",
    "sns.pairplot(df, x_vars=['TV', 'newspaper', 'radio'], y_vars='sales', height=4, aspect=1, kind='scatter')\n",
    "plt.show()"
   ]
  },
  {
   "cell_type": "markdown",
   "id": "620d1624",
   "metadata": {},
   "source": [
    "if TV and Radio sale value increases then Target sale value also increases.\n",
    "newspaper sale value has not has much impact on the sale value of the target column"
   ]
  },
  {
   "cell_type": "code",
   "execution_count": 67,
   "id": "5badb6ab",
   "metadata": {},
   "outputs": [
    {
     "data": {
      "text/html": [
       "<div>\n",
       "<style scoped>\n",
       "    .dataframe tbody tr th:only-of-type {\n",
       "        vertical-align: middle;\n",
       "    }\n",
       "\n",
       "    .dataframe tbody tr th {\n",
       "        vertical-align: top;\n",
       "    }\n",
       "\n",
       "    .dataframe thead th {\n",
       "        text-align: right;\n",
       "    }\n",
       "</style>\n",
       "<table border=\"1\" class=\"dataframe\">\n",
       "  <thead>\n",
       "    <tr style=\"text-align: right;\">\n",
       "      <th></th>\n",
       "      <th>TV</th>\n",
       "      <th>radio</th>\n",
       "      <th>newspaper</th>\n",
       "      <th>sales</th>\n",
       "    </tr>\n",
       "  </thead>\n",
       "  <tbody>\n",
       "    <tr>\n",
       "      <th>0</th>\n",
       "      <td>230.1</td>\n",
       "      <td>37.8</td>\n",
       "      <td>69.2</td>\n",
       "      <td>22.1</td>\n",
       "    </tr>\n",
       "    <tr>\n",
       "      <th>1</th>\n",
       "      <td>44.5</td>\n",
       "      <td>39.3</td>\n",
       "      <td>45.1</td>\n",
       "      <td>10.4</td>\n",
       "    </tr>\n",
       "    <tr>\n",
       "      <th>2</th>\n",
       "      <td>17.2</td>\n",
       "      <td>45.9</td>\n",
       "      <td>69.3</td>\n",
       "      <td>9.3</td>\n",
       "    </tr>\n",
       "    <tr>\n",
       "      <th>3</th>\n",
       "      <td>151.5</td>\n",
       "      <td>41.3</td>\n",
       "      <td>58.5</td>\n",
       "      <td>18.5</td>\n",
       "    </tr>\n",
       "    <tr>\n",
       "      <th>4</th>\n",
       "      <td>180.8</td>\n",
       "      <td>10.8</td>\n",
       "      <td>58.4</td>\n",
       "      <td>12.9</td>\n",
       "    </tr>\n",
       "    <tr>\n",
       "      <th>...</th>\n",
       "      <td>...</td>\n",
       "      <td>...</td>\n",
       "      <td>...</td>\n",
       "      <td>...</td>\n",
       "    </tr>\n",
       "    <tr>\n",
       "      <th>195</th>\n",
       "      <td>38.2</td>\n",
       "      <td>3.7</td>\n",
       "      <td>13.8</td>\n",
       "      <td>7.6</td>\n",
       "    </tr>\n",
       "    <tr>\n",
       "      <th>196</th>\n",
       "      <td>94.2</td>\n",
       "      <td>4.9</td>\n",
       "      <td>8.1</td>\n",
       "      <td>9.7</td>\n",
       "    </tr>\n",
       "    <tr>\n",
       "      <th>197</th>\n",
       "      <td>177.0</td>\n",
       "      <td>9.3</td>\n",
       "      <td>6.4</td>\n",
       "      <td>12.8</td>\n",
       "    </tr>\n",
       "    <tr>\n",
       "      <th>198</th>\n",
       "      <td>283.6</td>\n",
       "      <td>42.0</td>\n",
       "      <td>66.2</td>\n",
       "      <td>25.5</td>\n",
       "    </tr>\n",
       "    <tr>\n",
       "      <th>199</th>\n",
       "      <td>232.1</td>\n",
       "      <td>8.6</td>\n",
       "      <td>8.7</td>\n",
       "      <td>13.4</td>\n",
       "    </tr>\n",
       "  </tbody>\n",
       "</table>\n",
       "<p>200 rows × 4 columns</p>\n",
       "</div>"
      ],
      "text/plain": [
       "        TV  radio  newspaper  sales\n",
       "0    230.1   37.8       69.2   22.1\n",
       "1     44.5   39.3       45.1   10.4\n",
       "2     17.2   45.9       69.3    9.3\n",
       "3    151.5   41.3       58.5   18.5\n",
       "4    180.8   10.8       58.4   12.9\n",
       "..     ...    ...        ...    ...\n",
       "195   38.2    3.7       13.8    7.6\n",
       "196   94.2    4.9        8.1    9.7\n",
       "197  177.0    9.3        6.4   12.8\n",
       "198  283.6   42.0       66.2   25.5\n",
       "199  232.1    8.6        8.7   13.4\n",
       "\n",
       "[200 rows x 4 columns]"
      ]
     },
     "execution_count": 67,
     "metadata": {},
     "output_type": "execute_result"
    }
   ],
   "source": [
    "#index column not needed so drop\n",
    "df=df.drop(['Unnamed: 0'],axis=1) \n",
    "df"
   ]
  },
  {
   "cell_type": "code",
   "execution_count": 68,
   "id": "44f53ab2",
   "metadata": {},
   "outputs": [
    {
     "data": {
      "text/plain": [
       "29408.5"
      ]
     },
     "execution_count": 68,
     "metadata": {},
     "output_type": "execute_result"
    }
   ],
   "source": [
    "#sum of total TV sale values\n",
    "total_tv_sale=df['TV'].sum()\n",
    "total_tv_sale"
   ]
  },
  {
   "cell_type": "code",
   "execution_count": 69,
   "id": "e1bb7962",
   "metadata": {},
   "outputs": [
    {
     "data": {
      "text/plain": [
       "4652.800000000001"
      ]
     },
     "execution_count": 69,
     "metadata": {},
     "output_type": "execute_result"
    }
   ],
   "source": [
    "#sum of total Radio sale values\n",
    "total_radio_sale=df['radio'].sum()\n",
    "total_radio_sale"
   ]
  },
  {
   "cell_type": "code",
   "execution_count": 70,
   "id": "a44f9c44",
   "metadata": {},
   "outputs": [
    {
     "data": {
      "text/plain": [
       "6110.799999999999"
      ]
     },
     "execution_count": 70,
     "metadata": {},
     "output_type": "execute_result"
    }
   ],
   "source": [
    "#sum of total newspaper sale values\n",
    "total_newspaper_sale=df['newspaper'].sum()\n",
    "total_newspaper_sale"
   ]
  },
  {
   "cell_type": "code",
   "execution_count": 71,
   "id": "64577e6e",
   "metadata": {},
   "outputs": [
    {
     "data": {
      "text/plain": [
       "2804.5"
      ]
     },
     "execution_count": 71,
     "metadata": {},
     "output_type": "execute_result"
    }
   ],
   "source": [
    "##sum of total sales through TV,RADIO and NEWSpaper values\n",
    "total_sales=df['sales'].sum()\n",
    "total_sales"
   ]
  },
  {
   "cell_type": "markdown",
   "id": "1445bd38",
   "metadata": {},
   "source": [
    "we can see that Sales happened through TV is HIGH among all and it contributes also more to the increase of total sale value"
   ]
  },
  {
   "cell_type": "code",
   "execution_count": 72,
   "id": "27b90392",
   "metadata": {},
   "outputs": [
    {
     "data": {
      "text/html": [
       "<div>\n",
       "<style scoped>\n",
       "    .dataframe tbody tr th:only-of-type {\n",
       "        vertical-align: middle;\n",
       "    }\n",
       "\n",
       "    .dataframe tbody tr th {\n",
       "        vertical-align: top;\n",
       "    }\n",
       "\n",
       "    .dataframe thead th {\n",
       "        text-align: right;\n",
       "    }\n",
       "</style>\n",
       "<table border=\"1\" class=\"dataframe\">\n",
       "  <thead>\n",
       "    <tr style=\"text-align: right;\">\n",
       "      <th></th>\n",
       "      <th>TV</th>\n",
       "      <th>radio</th>\n",
       "      <th>newspaper</th>\n",
       "      <th>sales</th>\n",
       "    </tr>\n",
       "  </thead>\n",
       "  <tbody>\n",
       "    <tr>\n",
       "      <th>TV</th>\n",
       "      <td>1.000000</td>\n",
       "      <td>0.054809</td>\n",
       "      <td>0.056648</td>\n",
       "      <td>0.782224</td>\n",
       "    </tr>\n",
       "    <tr>\n",
       "      <th>radio</th>\n",
       "      <td>0.054809</td>\n",
       "      <td>1.000000</td>\n",
       "      <td>0.354104</td>\n",
       "      <td>0.576223</td>\n",
       "    </tr>\n",
       "    <tr>\n",
       "      <th>newspaper</th>\n",
       "      <td>0.056648</td>\n",
       "      <td>0.354104</td>\n",
       "      <td>1.000000</td>\n",
       "      <td>0.228299</td>\n",
       "    </tr>\n",
       "    <tr>\n",
       "      <th>sales</th>\n",
       "      <td>0.782224</td>\n",
       "      <td>0.576223</td>\n",
       "      <td>0.228299</td>\n",
       "      <td>1.000000</td>\n",
       "    </tr>\n",
       "  </tbody>\n",
       "</table>\n",
       "</div>"
      ],
      "text/plain": [
       "                 TV     radio  newspaper     sales\n",
       "TV         1.000000  0.054809   0.056648  0.782224\n",
       "radio      0.054809  1.000000   0.354104  0.576223\n",
       "newspaper  0.056648  0.354104   1.000000  0.228299\n",
       "sales      0.782224  0.576223   0.228299  1.000000"
      ]
     },
     "execution_count": 72,
     "metadata": {},
     "output_type": "execute_result"
    }
   ],
   "source": [
    "#find correlation co.efficient of all variables in table\n",
    "df.corr()"
   ]
  },
  {
   "cell_type": "markdown",
   "id": "6216537c",
   "metadata": {},
   "source": [
    "TV is most highly positively correlated with the target sales.so it contributes high to the target.it means if its sales value increases target sales value also increases"
   ]
  },
  {
   "cell_type": "code",
   "execution_count": 73,
   "id": "d3da3041",
   "metadata": {},
   "outputs": [
    {
     "data": {
      "text/plain": [
       "<AxesSubplot:>"
      ]
     },
     "execution_count": 73,
     "metadata": {},
     "output_type": "execute_result"
    },
    {
     "data": {
      "image/png": "[encoded data removed]",
      "text/plain": [
       "<Figure size 1080x504 with 2 Axes>"
      ]
     },
     "metadata": {
      "needs_background": "light"
     },
     "output_type": "display_data"
    }
   ],
   "source": [
    "plt.figure(figsize=(15,7))\n",
    "sns.heatmap(df.corr(),annot=True,linewidths=0.5,linecolor=\"black\",fmt='.2f')"
   ]
  },
  {
   "cell_type": "markdown",
   "id": "d66ebf86",
   "metadata": {},
   "source": [
    "all columns are positively correlated with target.there is no zero correlation or negative correlation here"
   ]
  },
  {
   "cell_type": "code",
   "execution_count": 74,
   "id": "d33f8afd",
   "metadata": {},
   "outputs": [
    {
     "data": {
      "text/html": [
       "<div>\n",
       "<style scoped>\n",
       "    .dataframe tbody tr th:only-of-type {\n",
       "        vertical-align: middle;\n",
       "    }\n",
       "\n",
       "    .dataframe tbody tr th {\n",
       "        vertical-align: top;\n",
       "    }\n",
       "\n",
       "    .dataframe thead th {\n",
       "        text-align: right;\n",
       "    }\n",
       "</style>\n",
       "<table border=\"1\" class=\"dataframe\">\n",
       "  <thead>\n",
       "    <tr style=\"text-align: right;\">\n",
       "      <th></th>\n",
       "      <th>TV</th>\n",
       "      <th>radio</th>\n",
       "      <th>newspaper</th>\n",
       "      <th>sales</th>\n",
       "    </tr>\n",
       "  </thead>\n",
       "  <tbody>\n",
       "    <tr>\n",
       "      <th>count</th>\n",
       "      <td>200.000000</td>\n",
       "      <td>200.000000</td>\n",
       "      <td>200.000000</td>\n",
       "      <td>200.000000</td>\n",
       "    </tr>\n",
       "    <tr>\n",
       "      <th>mean</th>\n",
       "      <td>147.042500</td>\n",
       "      <td>23.264000</td>\n",
       "      <td>30.554000</td>\n",
       "      <td>14.022500</td>\n",
       "    </tr>\n",
       "    <tr>\n",
       "      <th>std</th>\n",
       "      <td>85.854236</td>\n",
       "      <td>14.846809</td>\n",
       "      <td>21.778621</td>\n",
       "      <td>5.217457</td>\n",
       "    </tr>\n",
       "    <tr>\n",
       "      <th>min</th>\n",
       "      <td>0.700000</td>\n",
       "      <td>0.000000</td>\n",
       "      <td>0.300000</td>\n",
       "      <td>1.600000</td>\n",
       "    </tr>\n",
       "    <tr>\n",
       "      <th>25%</th>\n",
       "      <td>74.375000</td>\n",
       "      <td>9.975000</td>\n",
       "      <td>12.750000</td>\n",
       "      <td>10.375000</td>\n",
       "    </tr>\n",
       "    <tr>\n",
       "      <th>50%</th>\n",
       "      <td>149.750000</td>\n",
       "      <td>22.900000</td>\n",
       "      <td>25.750000</td>\n",
       "      <td>12.900000</td>\n",
       "    </tr>\n",
       "    <tr>\n",
       "      <th>75%</th>\n",
       "      <td>218.825000</td>\n",
       "      <td>36.525000</td>\n",
       "      <td>45.100000</td>\n",
       "      <td>17.400000</td>\n",
       "    </tr>\n",
       "    <tr>\n",
       "      <th>max</th>\n",
       "      <td>296.400000</td>\n",
       "      <td>49.600000</td>\n",
       "      <td>114.000000</td>\n",
       "      <td>27.000000</td>\n",
       "    </tr>\n",
       "  </tbody>\n",
       "</table>\n",
       "</div>"
      ],
      "text/plain": [
       "               TV       radio   newspaper       sales\n",
       "count  200.000000  200.000000  200.000000  200.000000\n",
       "mean   147.042500   23.264000   30.554000   14.022500\n",
       "std     85.854236   14.846809   21.778621    5.217457\n",
       "min      0.700000    0.000000    0.300000    1.600000\n",
       "25%     74.375000    9.975000   12.750000   10.375000\n",
       "50%    149.750000   22.900000   25.750000   12.900000\n",
       "75%    218.825000   36.525000   45.100000   17.400000\n",
       "max    296.400000   49.600000  114.000000   27.000000"
      ]
     },
     "execution_count": 74,
     "metadata": {},
     "output_type": "execute_result"
    }
   ],
   "source": [
    "df.describe()"
   ]
  },
  {
   "cell_type": "markdown",
   "id": "f273a8ee",
   "metadata": {},
   "source": [
    "newspaper column is right skewed"
   ]
  },
  {
   "cell_type": "code",
   "execution_count": 75,
   "id": "8ef3b9ad",
   "metadata": {},
   "outputs": [
    {
     "data": {
      "image/png": "[encoded data removed]",
      "text/plain": [
       "<Figure size 1080x864 with 2 Axes>"
      ]
     },
     "metadata": {
      "needs_background": "light"
     },
     "output_type": "display_data"
    }
   ],
   "source": [
    "plt.figure(figsize=(15,12))\n",
    "sns.heatmap(round(df.describe()[1:].transpose(),2),linewidth=2,annot=True,fmt=\"f\")\n",
    "plt.xticks(fontsize=18)\n",
    "plt.yticks(fontsize=12)\n",
    "plt.title(\"Variables Summary\")\n",
    "plt.show()"
   ]
  },
  {
   "cell_type": "markdown",
   "id": "4a6bf509",
   "metadata": {},
   "source": [
    "newspaper is right skewed there could be outliers present in it"
   ]
  },
  {
   "cell_type": "code",
   "execution_count": 76,
   "id": "a871f0a4",
   "metadata": {},
   "outputs": [
    {
     "data": {
      "image/png": "[encoded data removed]",
      "text/plain": [
       "<Figure size 720x504 with 1 Axes>"
      ]
     },
     "metadata": {
      "needs_background": "light"
     },
     "output_type": "display_data"
    }
   ],
   "source": [
    "plt.figure(figsize=(10,7))\n",
    "df.corr()['sales'].sort_values(ascending=False).drop(['sales']).plot(kind='bar',color='c')\n",
    "plt.xlabel('Feature',fontsize=14)\n",
    "plt.ylabel('Column with Target names',fontsize=14)\n",
    "plt.title('Correlation',fontsize=18)\n",
    "plt.show()"
   ]
  },
  {
   "cell_type": "markdown",
   "id": "c967b174",
   "metadata": {},
   "source": [
    "All are positively correlated columns"
   ]
  },
  {
   "cell_type": "code",
   "execution_count": 77,
   "id": "07883dc6",
   "metadata": {},
   "outputs": [],
   "source": [
    "import statsmodels.api as sm\n",
    "from scipy import stats\n",
    "from statsmodels.stats.outliers_influence import variance_inflation_factor"
   ]
  },
  {
   "cell_type": "code",
   "execution_count": 78,
   "id": "e4ccbf83",
   "metadata": {},
   "outputs": [
    {
     "data": {
      "text/plain": [
       "(200, 4)"
      ]
     },
     "execution_count": 78,
     "metadata": {},
     "output_type": "execute_result"
    }
   ],
   "source": [
    "df.shape\n"
   ]
  },
  {
   "cell_type": "code",
   "execution_count": 79,
   "id": "fe6d6f7f",
   "metadata": {},
   "outputs": [
    {
     "data": {
      "text/plain": [
       "4"
      ]
     },
     "execution_count": 79,
     "metadata": {},
     "output_type": "execute_result"
    }
   ],
   "source": [
    "df.shape[1]\n"
   ]
  },
  {
   "cell_type": "code",
   "execution_count": 80,
   "id": "59366901",
   "metadata": {},
   "outputs": [
    {
     "data": {
      "image/png": "[encoded data removed]",
      "text/plain": [
       "<Figure size 2160x6480 with 4 Axes>"
      ]
     },
     "metadata": {
      "needs_background": "light"
     },
     "output_type": "display_data"
    }
   ],
   "source": [
    "collist=df.columns.values\n",
    "ncol=30\n",
    "nrows=14\n",
    "plt.figure(figsize=(ncol,3*ncol))\n",
    "for i in range(0,len(collist)):\n",
    "    plt.subplot(nrows,ncol,i+1)\n",
    "    sns.boxplot(y=df[collist[i]],color='green',orient='v')\n",
    "    plt.tight_layout()"
   ]
  },
  {
   "cell_type": "code",
   "execution_count": 81,
   "id": "2da6472d",
   "metadata": {},
   "outputs": [
    {
     "data": {
      "text/plain": [
       "TV          -0.069853\n",
       "radio        0.094175\n",
       "newspaper    0.894720\n",
       "sales        0.407571\n",
       "dtype: float64"
      ]
     },
     "execution_count": 81,
     "metadata": {},
     "output_type": "execute_result"
    }
   ],
   "source": [
    "#ckeck skewness\n",
    "df.skew()"
   ]
  },
  {
   "cell_type": "markdown",
   "id": "ea75410c",
   "metadata": {},
   "source": [
    "newspaper has skewness value >0.5 and its very high.so it is right skewed due to outliers"
   ]
  },
  {
   "cell_type": "markdown",
   "id": "7ca10a76",
   "metadata": {},
   "source": [
    "#checking Z-score to remove outliers"
   ]
  },
  {
   "cell_type": "code",
   "execution_count": 82,
   "id": "d44f29c6",
   "metadata": {},
   "outputs": [
    {
     "data": {
      "text/plain": [
       "(200, 4)"
      ]
     },
     "execution_count": 82,
     "metadata": {},
     "output_type": "execute_result"
    }
   ],
   "source": [
    "\n",
    "import numpy as np\n",
    "from scipy.stats import zscore\n",
    "z=np.abs(zscore(df))\n",
    "z.shape\n"
   ]
  },
  {
   "cell_type": "code",
   "execution_count": 83,
   "id": "6577cd5f",
   "metadata": {},
   "outputs": [
    {
     "name": "stdout",
     "output_type": "stream",
     "text": [
      "(array([ 16, 101], dtype=int64), array([2, 2], dtype=int64))\n"
     ]
    }
   ],
   "source": [
    "threshold=3\n",
    "print(np.where(z>3))"
   ]
  },
  {
   "cell_type": "code",
   "execution_count": 84,
   "id": "edaa6238",
   "metadata": {},
   "outputs": [
    {
     "name": "stdout",
     "output_type": "stream",
     "text": [
      "(200, 4)\n",
      "(198, 4)\n"
     ]
    }
   ],
   "source": [
    "df_new=df[(z<3).all(axis=1)]\n",
    "print(df.shape)\n",
    "print(df_new.shape)"
   ]
  },
  {
   "cell_type": "markdown",
   "id": "1f78732f",
   "metadata": {},
   "source": [
    "some outliers got removed"
   ]
  },
  {
   "cell_type": "code",
   "execution_count": 85,
   "id": "95310b04",
   "metadata": {},
   "outputs": [
    {
     "data": {
      "image/png": "[encoded data removed]",
      "text/plain": [
       "<Figure size 2160x6480 with 4 Axes>"
      ]
     },
     "metadata": {
      "needs_background": "light"
     },
     "output_type": "display_data"
    }
   ],
   "source": [
    "#checking outliers\n",
    "collist=df_new.columns.values\n",
    "ncol=30\n",
    "nrows=14\n",
    "plt.figure(figsize=(ncol,3*ncol))\n",
    "for i in range(0,len(collist)):\n",
    "    plt.subplot(nrows,ncol,i+1)\n",
    "    sns.boxplot(y=df_new[collist[i]],color='green',orient='v')\n",
    "    plt.tight_layout()"
   ]
  },
  {
   "cell_type": "code",
   "execution_count": 86,
   "id": "f8764237",
   "metadata": {},
   "outputs": [
    {
     "name": "stdout",
     "output_type": "stream",
     "text": [
      "0.0001\n"
     ]
    }
   ],
   "source": [
    "#finds data loss\n",
    "loss_percent=(200-198)/(200*100)\n",
    "print(loss_percent)"
   ]
  },
  {
   "cell_type": "markdown",
   "id": "bf4945bd",
   "metadata": {},
   "source": [
    "data loss percentage is very low.data is cleaned also"
   ]
  },
  {
   "cell_type": "code",
   "execution_count": 87,
   "id": "1dab21af",
   "metadata": {},
   "outputs": [
    {
     "data": {
      "text/html": [
       "<div>\n",
       "<style scoped>\n",
       "    .dataframe tbody tr th:only-of-type {\n",
       "        vertical-align: middle;\n",
       "    }\n",
       "\n",
       "    .dataframe tbody tr th {\n",
       "        vertical-align: top;\n",
       "    }\n",
       "\n",
       "    .dataframe thead th {\n",
       "        text-align: right;\n",
       "    }\n",
       "</style>\n",
       "<table border=\"1\" class=\"dataframe\">\n",
       "  <thead>\n",
       "    <tr style=\"text-align: right;\">\n",
       "      <th></th>\n",
       "      <th>TV</th>\n",
       "      <th>radio</th>\n",
       "      <th>newspaper</th>\n",
       "      <th>sales</th>\n",
       "    </tr>\n",
       "  </thead>\n",
       "  <tbody>\n",
       "    <tr>\n",
       "      <th>0</th>\n",
       "      <td>230.1</td>\n",
       "      <td>37.8</td>\n",
       "      <td>69.2</td>\n",
       "      <td>22.1</td>\n",
       "    </tr>\n",
       "    <tr>\n",
       "      <th>1</th>\n",
       "      <td>44.5</td>\n",
       "      <td>39.3</td>\n",
       "      <td>45.1</td>\n",
       "      <td>10.4</td>\n",
       "    </tr>\n",
       "    <tr>\n",
       "      <th>2</th>\n",
       "      <td>17.2</td>\n",
       "      <td>45.9</td>\n",
       "      <td>69.3</td>\n",
       "      <td>9.3</td>\n",
       "    </tr>\n",
       "    <tr>\n",
       "      <th>3</th>\n",
       "      <td>151.5</td>\n",
       "      <td>41.3</td>\n",
       "      <td>58.5</td>\n",
       "      <td>18.5</td>\n",
       "    </tr>\n",
       "    <tr>\n",
       "      <th>4</th>\n",
       "      <td>180.8</td>\n",
       "      <td>10.8</td>\n",
       "      <td>58.4</td>\n",
       "      <td>12.9</td>\n",
       "    </tr>\n",
       "    <tr>\n",
       "      <th>...</th>\n",
       "      <td>...</td>\n",
       "      <td>...</td>\n",
       "      <td>...</td>\n",
       "      <td>...</td>\n",
       "    </tr>\n",
       "    <tr>\n",
       "      <th>195</th>\n",
       "      <td>38.2</td>\n",
       "      <td>3.7</td>\n",
       "      <td>13.8</td>\n",
       "      <td>7.6</td>\n",
       "    </tr>\n",
       "    <tr>\n",
       "      <th>196</th>\n",
       "      <td>94.2</td>\n",
       "      <td>4.9</td>\n",
       "      <td>8.1</td>\n",
       "      <td>9.7</td>\n",
       "    </tr>\n",
       "    <tr>\n",
       "      <th>197</th>\n",
       "      <td>177.0</td>\n",
       "      <td>9.3</td>\n",
       "      <td>6.4</td>\n",
       "      <td>12.8</td>\n",
       "    </tr>\n",
       "    <tr>\n",
       "      <th>198</th>\n",
       "      <td>283.6</td>\n",
       "      <td>42.0</td>\n",
       "      <td>66.2</td>\n",
       "      <td>25.5</td>\n",
       "    </tr>\n",
       "    <tr>\n",
       "      <th>199</th>\n",
       "      <td>232.1</td>\n",
       "      <td>8.6</td>\n",
       "      <td>8.7</td>\n",
       "      <td>13.4</td>\n",
       "    </tr>\n",
       "  </tbody>\n",
       "</table>\n",
       "<p>198 rows × 4 columns</p>\n",
       "</div>"
      ],
      "text/plain": [
       "        TV  radio  newspaper  sales\n",
       "0    230.1   37.8       69.2   22.1\n",
       "1     44.5   39.3       45.1   10.4\n",
       "2     17.2   45.9       69.3    9.3\n",
       "3    151.5   41.3       58.5   18.5\n",
       "4    180.8   10.8       58.4   12.9\n",
       "..     ...    ...        ...    ...\n",
       "195   38.2    3.7       13.8    7.6\n",
       "196   94.2    4.9        8.1    9.7\n",
       "197  177.0    9.3        6.4   12.8\n",
       "198  283.6   42.0       66.2   25.5\n",
       "199  232.1    8.6        8.7   13.4\n",
       "\n",
       "[198 rows x 4 columns]"
      ]
     },
     "execution_count": 87,
     "metadata": {},
     "output_type": "execute_result"
    }
   ],
   "source": [
    "df_new"
   ]
  },
  {
   "cell_type": "code",
   "execution_count": 88,
   "id": "92ac8a92",
   "metadata": {},
   "outputs": [
    {
     "data": {
      "text/plain": [
       "(198, 4)"
      ]
     },
     "execution_count": 88,
     "metadata": {},
     "output_type": "execute_result"
    }
   ],
   "source": [
    "df_new.shape"
   ]
  },
  {
   "cell_type": "code",
   "execution_count": 89,
   "id": "1ccd2b8b",
   "metadata": {},
   "outputs": [],
   "source": [
    "#seggregate input data and output data\n",
    "x=df_new.iloc[:,:-1]\n",
    "y=df_new.iloc[:,-1]"
   ]
  },
  {
   "cell_type": "code",
   "execution_count": 90,
   "id": "c47b87e4",
   "metadata": {},
   "outputs": [
    {
     "data": {
      "text/plain": [
       "array([[ 0.95598306,  0.9691098 ,  1.6041965 ],\n",
       "       [-1.19200349,  1.04623436,  0.83104401],\n",
       "       [-1.6461253 ,  1.37296802,  1.60705249],\n",
       "       [ 0.14293428,  1.1473316 ,  1.28376774],\n",
       "       [ 0.45645241, -0.73502642,  1.28062154],\n",
       "       [-1.8204008 ,  1.51543955,  1.76610727],\n",
       "       [-1.00349358,  0.70309642, -0.10205346],\n",
       "       [-0.20996049, -0.0876566 , -0.84968895],\n",
       "       [-1.82264543, -1.62948287, -2.09866461],\n",
       "       [ 0.652694  , -1.56152179, -0.22649933],\n",
       "       [-0.88482761, -1.19258569, -0.06553382],\n",
       "       [ 0.80322028,  0.19357553, -1.59608414],\n",
       "       [-1.52567125,  0.82725998,  1.50859232],\n",
       "       [-0.48090308, -1.01613619, -1.23269654],\n",
       "       [ 0.69642374,  0.70856268,  0.86367455],\n",
       "       [ 0.60769456,  1.45886692,  1.1026083 ],\n",
       "       [ 1.44702338,  1.06152278,  1.19771741],\n",
       "       [-0.84304109, -0.02834315, -0.39458775],\n",
       "       [ 0.09676151,  0.18741189, -0.346834  ],\n",
       "       [ 0.84017479,  0.41523303,  1.11921444],\n",
       "       [ 1.02746612, -1.2660875 , -0.10205346],\n",
       "       [-1.72466475, -0.3430802 ,  0.99069777],\n",
       "       [ 0.93826742, -0.27204438,  0.0356758 ],\n",
       "       [-0.93674187, -0.59023588, -0.39458775],\n",
       "       [ 1.27285397, -1.44792482, -0.32336998],\n",
       "       [ 0.04802388,  0.50756488, -0.7740548 ],\n",
       "       [ 1.05376032, -0.28612399, -0.13384051],\n",
       "       [ 1.13797152,  0.38008881, -0.13384051],\n",
       "       [-0.82432769, -0.33590351,  0.66980347],\n",
       "       [ 1.55379249,  0.45008922,  0.76092313],\n",
       "       [-0.29552539, -0.23711359,  0.58357284],\n",
       "       [-0.48458608, -1.71704857,  0.21669702],\n",
       "       [ 1.29846636, -0.06117169, -2.2758464 ],\n",
       "       [-0.50304519, -1.7324148 , -1.21299201],\n",
       "       [ 1.53345233, -1.3771472 , -1.10919482],\n",
       "       [ 1.31077419,  1.27109462, -1.4708598 ],\n",
       "       [-0.77006157,  1.53885314,  0.85283827],\n",
       "       [-1.21308859,  0.35649509,  0.44045973],\n",
       "       [ 0.93531131,  0.96392681,  0.30682057],\n",
       "       [ 0.68018031,  0.08742886,  0.28905461],\n",
       "       [ 0.4165774 ,  0.73579933,  0.58755182],\n",
       "       [ 1.56025605,  0.41523303, -1.93614969],\n",
       "       [ 0.72477076, -0.94246393,  0.04555612],\n",
       "       [-1.50299171,  0.29691633,  0.76465678],\n",
       "       [ 0.39655706,  0.10007132,  0.2845934 ],\n",
       "       [-0.5776425 , -0.81067203,  0.46554742],\n",
       "       [ 1.05181524,  1.15733673, -0.38254334],\n",
       "       [ 0.92742341, -0.35027362,  1.00104316],\n",
       "       [-0.87399682, -0.66162053,  0.51093113],\n",
       "       [ 0.652694  , -1.49718987,  0.41936802],\n",
       "       [-0.44544938, -0.83642883, -1.65023317],\n",
       "       [ 0.82021967,  1.16732335,  0.62310406],\n",
       "       [ 0.47526481,  1.38737344,  1.29005095],\n",
       "       [ 1.27095405,  0.47892195, -0.54515187],\n",
       "       [ 0.6435106 ,  1.53885314,  1.33059751],\n",
       "       [-1.85241088,  0.43850198,  0.6928619 ],\n",
       "       [-0.02694246, -0.11434473, -0.50002298],\n",
       "       [ 0.7640894 ,  1.54819296,  0.54749686],\n",
       "       [ 0.76308359,  0.51896989, -1.03801781],\n",
       "       [-1.06021399, -1.64357954, -0.21538949],\n",
       "       [ 1.25764412,  1.21698291,  1.16198054],\n",
       "       [ 1.04597746, -0.37195568,  0.08950799],\n",
       "       [-0.41751811,  0.52466135, -1.11833294],\n",
       "       [-0.08464536,  1.22192414,  0.16568658],\n",
       "       [-0.84572231, -0.8624742 , -2.12148202],\n",
       "       [-1.39528628,  0.23035564, -1.86501   ],\n",
       "       [ 0.00785902, -0.44537697, -0.96167639],\n",
       "       [ 1.02746612,  0.40355071, -0.89675177],\n",
       "       [ 0.8242145 ,  1.27598779,  0.08466485],\n",
       "       [ 0.64555228,  0.58117899,  0.58755182],\n",
       "       [-0.33228945, -0.46028254,  0.29350789],\n",
       "       [-1.47377148,  0.71402259, -0.33506848],\n",
       "       [-0.10400761, -1.202897  ,  0.27564704],\n",
       "       [ 0.79019725,  0.23035564, -0.73744518],\n",
       "       [-1.65184774,  1.26619715,  2.13937255],\n",
       "       [-1.46187563, -1.70192244, -0.25453031],\n",
       "       [-0.20647326,  0.46164538, -0.65947105],\n",
       "       [-1.89822804,  0.54169198, -1.02934918],\n",
       "       [-0.25902053, -1.00678392, -0.12319395],\n",
       "       [-0.74778651,  0.35649509, -0.16609367],\n",
       "       [ 1.05084254, -1.3771472 ,  0.51501874],\n",
       "       [-0.76218508, -0.04143812,  0.32885333],\n",
       "       [-0.85377796,  1.30525722,  0.46138274],\n",
       "       [ 0.79119975,  1.23179329,  0.38526098],\n",
       "       [ 0.58509675, -0.16835339,  1.50271112],\n",
       "       [-0.74909326,  0.40355071, -0.53863938],\n",
       "       [-0.32158879,  1.11216604,  1.42831665],\n",
       "       [-0.59523084,  0.28489586,  1.72217946],\n",
       "       [-0.33228945,  1.4636021 ,  1.05224719],\n",
       "       [-0.04837336, -1.28768913, -1.03801781],\n",
       "       [-1.44333425, -1.71704857,  0.35069626],\n",
       "       [ 0.8331959 ,  0.74122791,  1.29945293],\n",
       "       [ 1.15818339,  0.90131402,  1.69166052],\n",
       "       [-0.36093577, -0.4827855 , -0.90472726],\n",
       "       [ 0.2709304 ,  0.63699688,  1.1026083 ],\n",
       "       [ 0.63022667, -1.44792482, -1.36815587],\n",
       "       [ 0.49923329,  0.00418624, -0.18240095],\n",
       "       [ 1.52419364,  1.19717332,  1.04546953],\n",
       "       [-0.0382122 ,  1.16732335,  0.86006693],\n",
       "       [ 0.87994389, -1.35429375,  0.99759864],\n",
       "       [ 1.43581778, -0.79365568, -0.21538949],\n",
       "       [ 0.53038105, -0.25104051, -0.41889554],\n",
       "       [ 1.03526502,  0.78443582, -1.43568966],\n",
       "       [-0.00783277,  1.39695704,  1.29945293],\n",
       "       [-1.50472569, -0.71852874,  0.20289058],\n",
       "       [-0.56887482, -1.92277996, -0.11788987],\n",
       "       [-1.72669682, -1.90334954,  0.00577961],\n",
       "       [ 1.20134779,  0.36830859, -1.41277956],\n",
       "       [ 0.91360226, -0.96064272,  1.22025052],\n",
       "       [ 1.06930594,  0.97946003, -0.11788987],\n",
       "       [ 0.40288531, -0.37921745, -1.83137048],\n",
       "       [ 0.75201155, -0.02181365, -0.9207956 ],\n",
       "       [-0.72433929,  1.41607663,  0.41512911],\n",
       "       [-0.76480878,  0.82192754,  1.09594084],\n",
       "       [ 0.00673953, -0.46028254,  0.00577961],\n",
       "       [-0.74778651, -1.83055994, -0.61831443],\n",
       "       [-0.14637764,  0.92227141,  1.87892616],\n",
       "       [-1.60487761, -0.33590351, -0.16609367],\n",
       "       [ 0.03020546,  0.36240602,  0.87087647],\n",
       "       [-1.61600701,  0.04924266,  1.01820721],\n",
       "       [ 0.89579959, -1.58822992, -0.56482448],\n",
       "       [-0.17634363,  0.8005392 , -0.78891695],\n",
       "       [ 0.95008184,  0.67566908,  1.7442111 ],\n",
       "       [-0.60910057, -0.65359273,  0.02077604],\n",
       "       [-1.84082856,  1.02577993,  1.02504572],\n",
       "       [-0.69844865, -1.98495808, -1.04673537],\n",
       "       [ 0.8590884 ,  1.52012963, -1.70718676],\n",
       "       [-0.97412104, -0.63761079,  0.75718457],\n",
       "       [-2.03323356,  1.06152278, -1.09108448],\n",
       "       [ 1.2946762 , -1.52253007,  0.7534411 ],\n",
       "       [-1.82715302,  0.38596655, -1.88228781],\n",
       "       [ 0.85411524,  0.74122791,  0.83104401],\n",
       "       [-1.30867028,  1.0103861 ,  1.49976669],\n",
       "       [-1.13560137,  1.42561279, -1.10919482],\n",
       "       [-1.49434751,  1.03090107, -1.03801781],\n",
       "       [ 1.37490294,  0.48466558,  1.32128542],\n",
       "       [-1.21460127,  0.30890141, -0.2658475 ],\n",
       "       [ 0.49923329,  1.27598779, -1.95484304],\n",
       "       [-0.78718324, -0.2650278 , -0.75199725],\n",
       "       [ 0.59023843,  0.84322253,  1.78244184],\n",
       "       [ 0.86107685,  0.72492349,  0.55555544],\n",
       "       [-0.39456576, -1.202897  ,  0.41088327],\n",
       "       [-0.49688394, -0.42315979,  0.59549238],\n",
       "       [ 0.01904252, -1.65786243, -1.06432036],\n",
       "       [ 1.05376032, -1.04445327, -1.09108448],\n",
       "       [ 1.08385578,  1.52012963,  0.80172759],\n",
       "       [-1.29143203,  1.09702388, -0.82664429],\n",
       "       [-1.1890052 ,  0.30291327, -0.26018131],\n",
       "       [ 1.44048829, -0.49032576,  0.51910011],\n",
       "       [-0.20066619, -0.94246393,  0.95944652],\n",
       "       [ 0.63022667,  0.15022331, -0.65947105],\n",
       "       [ 0.35634693,  1.06660903,  0.54749686],\n",
       "       [ 0.52934487,  0.01065705, -1.02072873],\n",
       "       [-1.93163495, -0.66967326, -1.39027462],\n",
       "       [-0.52529469,  1.25638925,  1.02162839],\n",
       "       [ 0.12428563, -1.74803521, -0.06036496],\n",
       "       [-1.75555556,  0.92227141,  0.83468776],\n",
       "       [-0.07782712, -0.16835339,  0.41936802],\n",
       "       [ 0.36906953, -0.18883181,  0.24861364],\n",
       "       [-0.62808655,  0.86442562,  0.98031676],\n",
       "       [ 0.5355598 , -0.18883181,  0.00577961],\n",
       "       [ 0.2730788 ,  0.91704026, -1.21299201],\n",
       "       [-0.24495734, -0.43054692, -1.42418272],\n",
       "       [ 0.99913782, -1.46007371,  2.02414625],\n",
       "       [-1.63286723,  0.95873855, -0.20433701],\n",
       "       [ 0.72376009, -1.25539136, -0.32921092],\n",
       "       [ 0.81022423,  0.16886223,  1.25534066],\n",
       "       [ 1.47405264, -0.75163452, -1.31443661],\n",
       "       [-1.11073781, -0.66967326, -0.38855655],\n",
       "       [ 0.28381064, -0.00229617,  0.91372099],\n",
       "       [-1.60118681, -0.05458158, -0.47470116],\n",
       "       [ 0.32550506, -1.06355551, -0.75931882],\n",
       "       [ 0.87994389, -1.46007371, -0.73744518],\n",
       "       [ 1.40493806,  1.51543955,  0.70812926],\n",
       "       [ 1.13411664,  0.55865764, -0.27722588],\n",
       "       [ 0.34466429, -0.99747386,  0.44465771],\n",
       "       [ 1.40306351, -1.60181548, -0.09155822],\n",
       "       [ 0.29559622, -0.80214864, -0.43732278],\n",
       "       [ 0.19855946, -1.56152179, -1.12752759],\n",
       "       [ 0.8411713 , -1.23420066,  0.09434122],\n",
       "       [-1.02181379, -1.202897  ,  0.20289058],\n",
       "       [ 1.50472337,  1.23179329,  1.67770049],\n",
       "       [ 1.18602318,  0.02356422,  0.21669702],\n",
       "       [ 0.70554619,  1.33437513, -0.31754553],\n",
       "       [ 0.01009737, -1.62948287,  0.05539471],\n",
       "       [ 0.56346396,  0.47317073, -0.40063711],\n",
       "       [ 1.48986416, -0.49032576, -1.63644784],\n",
       "       [-1.61787038, -0.62965614, -0.1073197 ],\n",
       "       [-1.26812741,  1.13730782, -1.3791681 ],\n",
       "       [-0.75956316, -0.73502642, -1.3572358 ],\n",
       "       [-1.6461253 , -1.3771472 ,  0.28905461],\n",
       "       [ 0.30843016,  1.18226883, -1.65023317],\n",
       "       [ 0.12318696,  0.85383548, -1.3572358 ],\n",
       "       [-1.28831146, -1.42394128, -0.68743455],\n",
       "       [-0.52157887, -1.28768913, -1.14609038],\n",
       "       [ 0.4165774 , -0.8624742 , -1.31443661],\n",
       "       [ 1.4675349 ,  1.18226883,  1.51739504],\n",
       "       [ 0.97562509, -0.92443675, -1.09108448]])"
      ]
     },
     "execution_count": 90,
     "metadata": {},
     "output_type": "execute_result"
    }
   ],
   "source": [
    "#removing skewness using power transform\n",
    "from sklearn.preprocessing import power_transform\n",
    "x=power_transform(x,method='yeo-johnson')\n",
    "x"
   ]
  },
  {
   "cell_type": "code",
   "execution_count": 91,
   "id": "a3b457c4",
   "metadata": {},
   "outputs": [
    {
     "data": {
      "text/plain": [
       "array([[0.83184229, 0.83610008, 0.87878833],\n",
       "       [0.23409837, 0.85792891, 0.70367754],\n",
       "       [0.10772489, 0.95040548, 0.87943518],\n",
       "       [0.60558624, 0.88654282, 0.80621464],\n",
       "       [0.69283238, 0.3537725 , 0.80550206],\n",
       "       [0.05922732, 0.99072969, 0.91545939],\n",
       "       [0.28655711, 0.76080939, 0.49234092],\n",
       "       [0.50738231, 0.53699982, 0.32300945],\n",
       "       [0.05860268, 0.10061138, 0.04012979],\n",
       "       [0.7474427 , 0.11984664, 0.46415525],\n",
       "       [0.31957959, 0.22426791, 0.50061222],\n",
       "       [0.78933131, 0.61659793, 0.1539589 ],\n",
       "       [0.14124496, 0.79595184, 0.85713501],\n",
       "       [0.43198413, 0.27420902, 0.23626232],\n",
       "       [0.75961185, 0.76235653, 0.71106801],\n",
       "       [0.73492021, 0.97471774, 0.76518395],\n",
       "       [0.9684895 , 0.86225605, 0.78672515],\n",
       "       [0.33120799, 0.55378751, 0.42608502],\n",
       "       [0.59273723, 0.61485341, 0.43690074],\n",
       "       [0.79961504, 0.67933442, 0.76894507],\n",
       "       [0.85173467, 0.20346443, 0.49234092],\n",
       "       [0.08586885, 0.4647064 , 0.73983741],\n",
       "       [0.82691236, 0.48481191, 0.52353512],\n",
       "       [0.30513284, 0.39475307, 0.42608502],\n",
       "       [0.92002145, 0.15199839, 0.44221509],\n",
       "       [0.57917447, 0.70546742, 0.34013978],\n",
       "       [0.85905185, 0.48082691, 0.48514149],\n",
       "       [0.88248623, 0.66938743, 0.48514149],\n",
       "       [0.33641557, 0.46673764, 0.66715828],\n",
       "       [0.99820131, 0.68919989, 0.68779591],\n",
       "       [0.48357122, 0.49469849, 0.64762796],\n",
       "       [0.43095922, 0.07582736, 0.5645345 ],\n",
       "       [0.9271489 , 0.54449594, 0.        ],\n",
       "       [0.4258224 , 0.0714782 , 0.24072518],\n",
       "       [0.99254103, 0.17203082, 0.26423414],\n",
       "       [0.93057393, 0.92157189, 0.18232088],\n",
       "       [0.35151681, 0.99735652, 0.70861371],\n",
       "       [0.22823079, 0.66270962, 0.61521437],\n",
       "       [0.82608973, 0.83463312, 0.58494652],\n",
       "       [0.75509162, 0.58655487, 0.58092272],\n",
       "       [0.68173592, 0.77006541, 0.64852916],\n",
       "       [1.        , 0.67933442, 0.07693768],\n",
       "       [0.76750029, 0.29506074, 0.52577291],\n",
       "       [0.14755625, 0.64584683, 0.68864154],\n",
       "       [0.67616464, 0.59013311, 0.5799123 ],\n",
       "       [0.40506338, 0.33236226, 0.62089646],\n",
       "       [0.85851057, 0.88937461, 0.42881295],\n",
       "       [0.82389468, 0.46267042, 0.74218054],\n",
       "       [0.3225936 , 0.37454882, 0.63117539],\n",
       "       [0.7474427 , 0.13805473, 0.61043732],\n",
       "       [0.44185022, 0.32507222, 0.14169472],\n",
       "       [0.79406191, 0.89220115, 0.65658136],\n",
       "       [0.69806752, 0.95448269, 0.80763772],\n",
       "       [0.91949274, 0.69736052, 0.39198385],\n",
       "       [0.74488713, 0.99735652, 0.81682108],\n",
       "       [0.05031952, 0.68592031, 0.67238077],\n",
       "       [0.55831276, 0.52944619, 0.40220506],\n",
       "       [0.77844192, 1.        , 0.63945714],\n",
       "       [0.77816203, 0.70869542, 0.28035497],\n",
       "       [0.27077289, 0.09662155, 0.46667151],\n",
       "       [0.91578884, 0.90625647, 0.77863113],\n",
       "       [0.85688602, 0.45653367, 0.53572754],\n",
       "       [0.44962296, 0.7103063 , 0.26216445],\n",
       "       [0.54225514, 0.907655  , 0.55298118],\n",
       "       [0.33046186, 0.31770051, 0.03496189],\n",
       "       [0.17752863, 0.62700793, 0.09305006],\n",
       "       [0.56799735, 0.43575298, 0.29764549],\n",
       "       [0.85173467, 0.67602793, 0.31235022],\n",
       "       [0.7951736 , 0.92295682, 0.53463062],\n",
       "       [0.74545529, 0.72630268, 0.64852916],\n",
       "       [0.47334048, 0.43153421, 0.58193134],\n",
       "       [0.15568769, 0.76390187, 0.4395655 ],\n",
       "       [0.53686699, 0.22134946, 0.57788605],\n",
       "       [0.78570724, 0.62700793, 0.34843147],\n",
       "       [0.10613244, 0.92018575, 1.        ],\n",
       "       [0.15899807, 0.08010856, 0.45780653],\n",
       "       [0.50835274, 0.69247067, 0.36609178],\n",
       "       [0.03756948, 0.71512653, 0.28231833],\n",
       "       [0.49372984, 0.27685603, 0.48755282],\n",
       "       [0.35771554, 0.66270962, 0.47783649],\n",
       "       [0.85823988, 0.17203082, 0.63210119],\n",
       "       [0.35370869, 0.5500812 , 0.58993671],\n",
       "       [0.32822012, 0.93124106, 0.61995321],\n",
       "       [0.78598622, 0.9104483 , 0.60271244],\n",
       "       [0.72863166, 0.51415993, 0.85580298],\n",
       "       [0.35735189, 0.67602793, 0.39345886],\n",
       "       [0.47631828, 0.87658979, 0.83895342],\n",
       "       [0.40016888, 0.64244464, 0.90551022],\n",
       "       [0.47334048, 0.97605796, 0.7537777 ],\n",
       "       [0.55234895, 0.19735045, 0.28035497],\n",
       "       [0.16415779, 0.07582736, 0.5948839 ],\n",
       "       [0.79767295, 0.77160188, 0.80976717],\n",
       "       [0.8881108 , 0.81691161, 0.898598  ],\n",
       "       [0.46536876, 0.42516512, 0.31054386],\n",
       "       [0.64120513, 0.74210101, 0.76518395],\n",
       "       [0.74119047, 0.15199839, 0.20558222],\n",
       "       [0.70473749, 0.56299442, 0.47414307],\n",
       "       [0.98996452, 0.90064969, 0.75224263],\n",
       "       [0.55517661, 0.89220115, 0.71025092],\n",
       "       [0.81068203, 0.17849911, 0.74140039],\n",
       "       [0.96537119, 0.33717845, 0.46667151],\n",
       "       [0.71340532, 0.49075671, 0.42057956],\n",
       "       [0.85390496, 0.78383117, 0.19028654],\n",
       "       [0.56363063, 0.95719517, 0.80976717],\n",
       "       [0.14707372, 0.35844189, 0.56140749],\n",
       "       [0.40750326, 0.01759849, 0.48875414],\n",
       "       [0.08530336, 0.02309795, 0.51676396],\n",
       "       [0.90012264, 0.66605323, 0.19547543],\n",
       "       [0.82004852, 0.28991553, 0.79182866],\n",
       "       [0.8633779 , 0.83902955, 0.48875414],\n",
       "       [0.67792568, 0.45447834, 0.10066906],\n",
       "       [0.77508089, 0.55563558, 0.30690455],\n",
       "       [0.36424045, 0.96260666, 0.60947725],\n",
       "       [0.35297856, 0.79444258, 0.76367385],\n",
       "       [0.56768582, 0.43153421, 0.51676396],\n",
       "       [0.35771554, 0.04369984, 0.37541331],\n",
       "       [0.52507621, 0.82284325, 0.94101167],\n",
       "       [0.11920334, 0.46673764, 0.47783649],\n",
       "       [0.57421594, 0.66438261, 0.71269917],\n",
       "       [0.11610624, 0.57574689, 0.74606801],\n",
       "       [0.81509437, 0.11228735, 0.38752822],\n",
       "       [0.51673725, 0.78838896, 0.33677366],\n",
       "       [0.83020009, 0.75304654, 0.91050015],\n",
       "       [0.3963092 , 0.37682096, 0.52016049],\n",
       "       [0.05354266, 0.85213963, 0.74761686],\n",
       "       [0.37144532, 0.        , 0.27838054],\n",
       "       [0.80487834, 0.99205714, 0.12879534],\n",
       "       [0.29473093, 0.38134438, 0.68694917],\n",
       "       [0.        , 0.86225605, 0.26833594],\n",
       "       [0.92609417, 0.1308826 , 0.68610131],\n",
       "       [0.05734831, 0.67105102, 0.08913682],\n",
       "       [0.80349441, 0.77160188, 0.70367754],\n",
       "       [0.20163222, 0.84778266, 0.85513609],\n",
       "       [0.24979401, 0.96530571, 0.26423414],\n",
       "       [0.14996177, 0.85358908, 0.28035497],\n",
       "       [0.94841975, 0.69898615, 0.81471199],\n",
       "       [0.22780984, 0.64923901, 0.45524331],\n",
       "       [0.70473749, 0.92295682, 0.07270384],\n",
       "       [0.34675217, 0.48679784, 0.34513558],\n",
       "       [0.7300625 , 0.80046977, 0.919159  ],\n",
       "       [0.80543169, 0.76698718, 0.64128232],\n",
       "       [0.45601017, 0.22134946, 0.60851561],\n",
       "       [0.42753696, 0.44204119, 0.65032761],\n",
       "       [0.57110951, 0.09257902, 0.27439773],\n",
       "       [0.85905185, 0.26619434, 0.26833594],\n",
       "       [0.86742684, 0.99205714, 0.69703769],\n",
       "       [0.2064293 , 0.87230405, 0.32822882],\n",
       "       [0.23493274, 0.64754417, 0.45652664],\n",
       "       [0.96667091, 0.42303097, 0.63302557],\n",
       "       [0.50996874, 0.29506074, 0.73275934],\n",
       "       [0.74119047, 0.6043278 , 0.36609178],\n",
       "       [0.66497493, 0.86369563, 0.63945714],\n",
       "       [0.71311697, 0.56482588, 0.28427076],\n",
       "       [0.02827297, 0.37226963, 0.20057256],\n",
       "       [0.41963079, 0.91740978, 0.74684287],\n",
       "       [0.60039667, 0.0670571 , 0.50178292],\n",
       "       [0.07727252, 0.82284325, 0.70450281],\n",
       "       [0.54415253, 0.51415993, 0.61043732],\n",
       "       [0.66851539, 0.50836385, 0.57176327],\n",
       "       [0.39102576, 0.80647096, 0.73748623],\n",
       "       [0.71484647, 0.50836385, 0.51676396],\n",
       "       [0.64180299, 0.82136266, 0.24072518],\n",
       "       [0.49764335, 0.43995038, 0.19289274],\n",
       "       [0.84385144, 0.14855984, 0.97390247],\n",
       "       [0.11141436, 0.83316467, 0.46917478],\n",
       "       [0.76721904, 0.2064918 , 0.44089217],\n",
       "       [0.79128037, 0.60960324, 0.79977621],\n",
       "       [0.97601123, 0.34907185, 0.21774906],\n",
       "       [0.25671307, 0.37226963, 0.42745102],\n",
       "       [0.64478945, 0.56115968, 0.72240299],\n",
       "       [0.12023042, 0.54636116, 0.40794019],\n",
       "       [0.65639222, 0.26078777, 0.34347732],\n",
       "       [0.81068203, 0.14855984, 0.34843147],\n",
       "       [0.95677795, 0.99072969, 0.67583866],\n",
       "       [0.88141349, 0.71992839, 0.45266623],\n",
       "       [0.66172387, 0.27949108, 0.61616516],\n",
       "       [0.9562563 , 0.10844218, 0.49471798],\n",
       "       [0.64806916, 0.33477466, 0.41640599],\n",
       "       [0.62106567, 0.11984664, 0.26008196],\n",
       "       [0.79989236, 0.21248948, 0.53682222],\n",
       "       [0.28145894, 0.22134946, 0.56140749],\n",
       "       [0.98454631, 0.9104483 , 0.8954362 ],\n",
       "       [0.89585809, 0.56847904, 0.5645345 ],\n",
       "       [0.76215046, 0.9394824 , 0.44353426],\n",
       "       [0.56862024, 0.10061138, 0.52800125],\n",
       "       [0.72261167, 0.69573273, 0.4247149 ],\n",
       "       [0.98041127, 0.42303097, 0.14481695],\n",
       "       [0.1155877 , 0.38359581, 0.49114817],\n",
       "       [0.21291453, 0.88370575, 0.20308807],\n",
       "       [0.35443831, 0.3537725 , 0.2080555 ],\n",
       "       [0.10772489, 0.17203082, 0.58092272],\n",
       "       [0.6516406 , 0.89643122, 0.14169472],\n",
       "       [0.60009093, 0.80347359, 0.2080555 ],\n",
       "       [0.20729769, 0.15878653, 0.35975834],\n",
       "       [0.42066483, 0.19735045, 0.25587769],\n",
       "       [0.68173592, 0.31770051, 0.21774906],\n",
       "       [0.97419746, 0.89643122, 0.85912873],\n",
       "       [0.83730829, 0.30016303, 0.26833594]])"
      ]
     },
     "execution_count": 91,
     "metadata": {},
     "output_type": "execute_result"
    }
   ],
   "source": [
    "#scaling to get better model performance\n",
    "from sklearn.preprocessing import MinMaxScaler\n",
    "mmscaler = MinMaxScaler()\n",
    "x = mmscaler.fit_transform(x)\n",
    "x"
   ]
  },
  {
   "cell_type": "markdown",
   "id": "1e5725a1",
   "metadata": {},
   "source": [
    "Linear Regression"
   ]
  },
  {
   "cell_type": "code",
   "execution_count": 92,
   "id": "a807879d",
   "metadata": {},
   "outputs": [],
   "source": [
    "#Linear Regression\n",
    "#model fitting\n",
    "from sklearn.linear_model import LinearRegression\n",
    "lr=LinearRegression()\n",
    "from sklearn.metrics import mean_squared_error,mean_absolute_error,r2_score\n",
    "from sklearn.model_selection import train_test_split\n",
    "\n"
   ]
  },
  {
   "cell_type": "code",
   "execution_count": 93,
   "id": "4bfd6c44",
   "metadata": {},
   "outputs": [
    {
     "name": "stdout",
     "output_type": "stream",
     "text": [
      "At random state 0,the training accuracy is:90.1291002097885\n",
      "At random state 0,the testing accuracy is:91.53223525494353\n",
      "\n",
      "\n",
      "At random state 1,the training accuracy is:90.75607053875349\n",
      "At random state 1,the testing accuracy is:88.99875371730131\n",
      "\n",
      "\n",
      "At random state 2,the training accuracy is:91.45487608535885\n",
      "At random state 2,the testing accuracy is:86.90670885581866\n",
      "\n",
      "\n",
      "At random state 3,the training accuracy is:90.38683476410915\n",
      "At random state 3,the testing accuracy is:90.94654993350765\n",
      "\n",
      "\n",
      "At random state 4,the training accuracy is:90.80156627542777\n",
      "At random state 4,the testing accuracy is:88.05025579845189\n",
      "\n",
      "\n",
      "At random state 5,the training accuracy is:90.44410731238212\n",
      "At random state 5,the testing accuracy is:89.45026194148484\n",
      "\n",
      "\n",
      "At random state 6,the training accuracy is:90.71648377019737\n",
      "At random state 6,the testing accuracy is:89.2165738022297\n",
      "\n",
      "\n",
      "At random state 7,the training accuracy is:90.34105955818168\n",
      "At random state 7,the testing accuracy is:90.83214353182576\n",
      "\n",
      "\n",
      "At random state 8,the training accuracy is:90.8562751611754\n",
      "At random state 8,the testing accuracy is:88.53178974138565\n",
      "\n",
      "\n",
      "At random state 9,the training accuracy is:90.2359745101164\n",
      "At random state 9,the testing accuracy is:91.22373580268192\n",
      "\n",
      "\n",
      "At random state 10,the training accuracy is:92.56794776122022\n",
      "At random state 10,the testing accuracy is:82.40271000975486\n",
      "\n",
      "\n",
      "At random state 11,the training accuracy is:89.55368008631939\n",
      "At random state 11,the testing accuracy is:93.23027961362416\n",
      "\n",
      "\n",
      "At random state 12,the training accuracy is:90.3289385712865\n",
      "At random state 12,the testing accuracy is:90.90076724718209\n",
      "\n",
      "\n",
      "At random state 13,the training accuracy is:91.3578768471947\n",
      "At random state 13,the testing accuracy is:86.47030765794432\n",
      "\n",
      "\n",
      "At random state 14,the training accuracy is:89.90266863873639\n",
      "At random state 14,the testing accuracy is:91.50911456757514\n",
      "\n",
      "\n",
      "At random state 15,the training accuracy is:90.22375985711597\n",
      "At random state 15,the testing accuracy is:91.3360116106745\n",
      "\n",
      "\n",
      "At random state 16,the training accuracy is:90.16649377095219\n",
      "At random state 16,the testing accuracy is:91.45663292536095\n",
      "\n",
      "\n",
      "At random state 17,the training accuracy is:90.51915317193867\n",
      "At random state 17,the testing accuracy is:90.09507724238696\n",
      "\n",
      "\n",
      "At random state 18,the training accuracy is:91.59453992969762\n",
      "At random state 18,the testing accuracy is:86.10034373772409\n",
      "\n",
      "\n",
      "At random state 19,the training accuracy is:90.98958945807767\n",
      "At random state 19,the testing accuracy is:85.52260567386736\n",
      "\n",
      "\n",
      "At random state 20,the training accuracy is:89.74714268832219\n",
      "At random state 20,the testing accuracy is:92.03968981537324\n",
      "\n",
      "\n",
      "At random state 21,the training accuracy is:89.73906661503068\n",
      "At random state 21,the testing accuracy is:92.7897406199202\n",
      "\n",
      "\n",
      "At random state 22,the training accuracy is:90.01304726424253\n",
      "At random state 22,the testing accuracy is:92.08951970230007\n",
      "\n",
      "\n",
      "At random state 23,the training accuracy is:89.82658998510374\n",
      "At random state 23,the testing accuracy is:92.75235609491286\n",
      "\n",
      "\n",
      "At random state 24,the training accuracy is:89.4887816504894\n",
      "At random state 24,the testing accuracy is:94.04645313166986\n",
      "\n",
      "\n",
      "At random state 25,the training accuracy is:89.66415517744912\n",
      "At random state 25,the testing accuracy is:93.32158436254716\n",
      "\n",
      "\n",
      "At random state 26,the training accuracy is:91.17269728502923\n",
      "At random state 26,the testing accuracy is:84.93162999703564\n",
      "\n",
      "\n",
      "At random state 27,the training accuracy is:91.56567014224747\n",
      "At random state 27,the testing accuracy is:84.61220328650047\n",
      "\n",
      "\n",
      "At random state 28,the training accuracy is:91.94052486652296\n",
      "At random state 28,the testing accuracy is:85.40027770273635\n",
      "\n",
      "\n",
      "At random state 29,the training accuracy is:91.50133297832484\n",
      "At random state 29,the testing accuracy is:86.51826160067964\n",
      "\n",
      "\n",
      "At random state 30,the training accuracy is:91.9114017540048\n",
      "At random state 30,the testing accuracy is:84.68345231987907\n",
      "\n",
      "\n",
      "At random state 31,the training accuracy is:89.43933226422129\n",
      "At random state 31,the testing accuracy is:93.15839453507958\n",
      "\n",
      "\n",
      "At random state 32,the training accuracy is:89.8441613932287\n",
      "At random state 32,the testing accuracy is:92.49198196359107\n",
      "\n",
      "\n",
      "At random state 33,the training accuracy is:90.72960420357013\n",
      "At random state 33,the testing accuracy is:89.02313300645832\n",
      "\n",
      "\n",
      "At random state 34,the training accuracy is:90.75448931300905\n",
      "At random state 34,the testing accuracy is:88.49668540749825\n",
      "\n",
      "\n",
      "At random state 35,the training accuracy is:89.74915451573894\n",
      "At random state 35,the testing accuracy is:93.8599968396118\n",
      "\n",
      "\n",
      "At random state 36,the training accuracy is:90.22545664368533\n",
      "At random state 36,the testing accuracy is:91.25455902441193\n",
      "\n",
      "\n",
      "At random state 37,the training accuracy is:90.24665380497791\n",
      "At random state 37,the testing accuracy is:91.86110626326982\n",
      "\n",
      "\n",
      "At random state 38,the training accuracy is:90.20939183128822\n",
      "At random state 38,the testing accuracy is:91.65843765844757\n",
      "\n",
      "\n",
      "At random state 39,the training accuracy is:90.96769483848226\n",
      "At random state 39,the testing accuracy is:88.1630865901012\n",
      "\n",
      "\n",
      "At random state 40,the training accuracy is:90.66035712911273\n",
      "At random state 40,the testing accuracy is:89.01474491775207\n",
      "\n",
      "\n",
      "At random state 41,the training accuracy is:90.84524814773395\n",
      "At random state 41,the testing accuracy is:87.8466816593746\n",
      "\n",
      "\n",
      "At random state 42,the training accuracy is:90.46797524787556\n",
      "At random state 42,the testing accuracy is:90.3785365866503\n",
      "\n",
      "\n",
      "At random state 43,the training accuracy is:90.62849166341181\n",
      "At random state 43,the testing accuracy is:89.67325225389982\n",
      "\n",
      "\n",
      "At random state 44,the training accuracy is:90.7091917847847\n",
      "At random state 44,the testing accuracy is:86.88030195986208\n",
      "\n",
      "\n",
      "At random state 45,the training accuracy is:90.40652031111756\n",
      "At random state 45,the testing accuracy is:90.57393659221862\n",
      "\n",
      "\n",
      "At random state 46,the training accuracy is:90.88357852410766\n",
      "At random state 46,the testing accuracy is:88.45202426181594\n",
      "\n",
      "\n",
      "At random state 47,the training accuracy is:90.36099424414817\n",
      "At random state 47,the testing accuracy is:90.66019878401183\n",
      "\n",
      "\n",
      "At random state 48,the training accuracy is:91.04503572403473\n",
      "At random state 48,the testing accuracy is:88.23951403048893\n",
      "\n",
      "\n",
      "At random state 49,the training accuracy is:91.43897219263015\n",
      "At random state 49,the testing accuracy is:86.51606940697212\n",
      "\n",
      "\n",
      "At random state 50,the training accuracy is:91.04560728842173\n",
      "At random state 50,the testing accuracy is:85.75174941501014\n",
      "\n",
      "\n",
      "At random state 51,the training accuracy is:90.38241673846332\n",
      "At random state 51,the testing accuracy is:90.31024394747436\n",
      "\n",
      "\n",
      "At random state 52,the training accuracy is:90.54149654395894\n",
      "At random state 52,the testing accuracy is:89.73908059193137\n",
      "\n",
      "\n",
      "At random state 53,the training accuracy is:91.10496305098248\n",
      "At random state 53,the testing accuracy is:87.41519881078035\n",
      "\n",
      "\n",
      "At random state 54,the training accuracy is:90.87915036505674\n",
      "At random state 54,the testing accuracy is:88.49009524636277\n",
      "\n",
      "\n",
      "At random state 55,the training accuracy is:90.3993677091941\n",
      "At random state 55,the testing accuracy is:90.47295196612014\n",
      "\n",
      "\n",
      "At random state 56,the training accuracy is:90.88538574596642\n",
      "At random state 56,the testing accuracy is:88.42792722037214\n",
      "\n",
      "\n",
      "At random state 57,the training accuracy is:91.20663000203064\n",
      "At random state 57,the testing accuracy is:87.8884118072013\n",
      "\n",
      "\n",
      "At random state 58,the training accuracy is:89.76555316811165\n",
      "At random state 58,the testing accuracy is:92.2083383189951\n",
      "\n",
      "\n",
      "At random state 59,the training accuracy is:90.30357015265938\n",
      "At random state 59,the testing accuracy is:90.58539111667334\n",
      "\n",
      "\n",
      "At random state 60,the training accuracy is:90.60103435993258\n",
      "At random state 60,the testing accuracy is:89.70435896150583\n",
      "\n",
      "\n",
      "At random state 61,the training accuracy is:91.24675938583844\n",
      "At random state 61,the testing accuracy is:87.21655938312858\n",
      "\n",
      "\n",
      "At random state 62,the training accuracy is:90.95197139268838\n",
      "At random state 62,the testing accuracy is:87.1444185369033\n",
      "\n",
      "\n",
      "At random state 63,the training accuracy is:90.5785351497562\n",
      "At random state 63,the testing accuracy is:89.91990315403817\n",
      "\n",
      "\n",
      "At random state 64,the training accuracy is:90.04774851126243\n",
      "At random state 64,the testing accuracy is:91.82395751912217\n",
      "\n",
      "\n",
      "At random state 65,the training accuracy is:91.11650166662695\n",
      "At random state 65,the testing accuracy is:88.28154199531534\n",
      "\n",
      "\n",
      "At random state 66,the training accuracy is:91.07653467082218\n",
      "At random state 66,the testing accuracy is:88.12765930277345\n",
      "\n",
      "\n",
      "At random state 67,the training accuracy is:89.83947994198249\n",
      "At random state 67,the testing accuracy is:92.777265119996\n",
      "\n",
      "\n",
      "At random state 68,the training accuracy is:91.07068917756588\n",
      "At random state 68,the testing accuracy is:88.14798104410612\n",
      "\n",
      "\n",
      "At random state 69,the training accuracy is:90.56183846633148\n",
      "At random state 69,the testing accuracy is:89.90928608403668\n",
      "\n",
      "\n",
      "At random state 70,the training accuracy is:89.82814621765594\n",
      "At random state 70,the testing accuracy is:91.81730549508991\n",
      "\n",
      "\n",
      "At random state 71,the training accuracy is:91.196390382557\n",
      "At random state 71,the testing accuracy is:85.93064528492891\n",
      "\n",
      "\n",
      "At random state 72,the training accuracy is:90.49017800415126\n",
      "At random state 72,the testing accuracy is:90.27211327534859\n",
      "\n",
      "\n",
      "At random state 73,the training accuracy is:90.56791727496028\n",
      "At random state 73,the testing accuracy is:89.57572280283304\n",
      "\n",
      "\n",
      "At random state 74,the training accuracy is:88.89000730282358\n",
      "At random state 74,the testing accuracy is:92.74069162246445\n",
      "\n",
      "\n",
      "At random state 75,the training accuracy is:90.70384634175926\n",
      "At random state 75,the testing accuracy is:87.85527905964942\n",
      "\n",
      "\n",
      "At random state 76,the training accuracy is:91.05607876343562\n",
      "At random state 76,the testing accuracy is:87.55117807373418\n",
      "\n",
      "\n",
      "At random state 77,the training accuracy is:90.05925407589889\n",
      "At random state 77,the testing accuracy is:91.79516947889472\n",
      "\n",
      "\n",
      "At random state 78,the training accuracy is:91.451411909451\n",
      "At random state 78,the testing accuracy is:84.56080844762167\n",
      "\n",
      "\n",
      "At random state 79,the training accuracy is:90.34230169686298\n",
      "At random state 79,the testing accuracy is:90.32665890079106\n",
      "\n",
      "\n",
      "At random state 80,the training accuracy is:90.24426012918224\n",
      "At random state 80,the testing accuracy is:91.35037189645718\n",
      "\n",
      "\n",
      "At random state 81,the training accuracy is:90.0827456789431\n",
      "At random state 81,the testing accuracy is:91.87757950146937\n",
      "\n",
      "\n",
      "At random state 82,the training accuracy is:91.97224738343049\n",
      "At random state 82,the testing accuracy is:84.43733434529916\n",
      "\n",
      "\n",
      "At random state 83,the training accuracy is:91.06876216578011\n",
      "At random state 83,the testing accuracy is:88.8281373121372\n",
      "\n",
      "\n",
      "At random state 84,the training accuracy is:89.94929429676539\n",
      "At random state 84,the testing accuracy is:91.93061837464454\n",
      "\n",
      "\n",
      "At random state 85,the training accuracy is:91.47115487418627\n",
      "At random state 85,the testing accuracy is:82.34538510832469\n",
      "\n",
      "\n",
      "At random state 86,the training accuracy is:90.48952586548158\n",
      "At random state 86,the testing accuracy is:90.35742684820788\n",
      "\n",
      "\n",
      "At random state 87,the training accuracy is:91.46434182473267\n",
      "At random state 87,the testing accuracy is:85.8837447492914\n",
      "\n",
      "\n",
      "At random state 88,the training accuracy is:90.34623532481936\n",
      "At random state 88,the testing accuracy is:91.07406429945287\n",
      "\n",
      "\n",
      "At random state 89,the training accuracy is:91.18911984505276\n",
      "At random state 89,the testing accuracy is:85.97757729358094\n",
      "\n",
      "\n",
      "At random state 90,the training accuracy is:89.16041936466816\n",
      "At random state 90,the testing accuracy is:94.73362332441401\n",
      "\n",
      "\n",
      "At random state 91,the training accuracy is:90.47629406127736\n",
      "At random state 91,the testing accuracy is:90.01356159950382\n",
      "\n",
      "\n",
      "At random state 92,the training accuracy is:90.88202099276396\n",
      "At random state 92,the testing accuracy is:88.5822053026922\n",
      "\n",
      "\n",
      "At random state 93,the training accuracy is:91.51854410661745\n",
      "At random state 93,the testing accuracy is:86.37155302435191\n",
      "\n",
      "\n",
      "At random state 94,the training accuracy is:91.10475226719052\n",
      "At random state 94,the testing accuracy is:88.52436435500094\n",
      "\n",
      "\n",
      "At random state 95,the training accuracy is:91.32516219536359\n",
      "At random state 95,the testing accuracy is:87.31956301728425\n",
      "\n",
      "\n",
      "At random state 96,the training accuracy is:91.12636342311893\n",
      "At random state 96,the testing accuracy is:87.04465516960882\n",
      "\n",
      "\n",
      "At random state 97,the training accuracy is:90.27328624671185\n",
      "At random state 97,the testing accuracy is:91.26335764750965\n",
      "\n",
      "\n",
      "At random state 98,the training accuracy is:91.2214445763587\n",
      "At random state 98,the testing accuracy is:87.04532222916819\n",
      "\n",
      "\n",
      "At random state 99,the training accuracy is:89.53616294800109\n",
      "At random state 99,the testing accuracy is:93.12602169950902\n",
      "\n",
      "\n"
     ]
    }
   ],
   "source": [
    "#getting best accuracy with help of selecting random state\n",
    "for i in range(0,100):\n",
    "    x_train,x_test,y_train,y_test=train_test_split(x,y,test_size=0.20,random_state=i)\n",
    "    lr.fit(x_train,y_train)\n",
    "    pred_train=lr.predict(x_train)\n",
    "    pred_test=lr.predict(x_test)\n",
    "    print(f\"At random state {i},the training accuracy is:{r2_score(y_train,pred_train)*100}\")\n",
    "    print(f\"At random state {i},the testing accuracy is:{r2_score(y_test,pred_test)*100}\")\n",
    "    print(\"\\n\")\n",
    "    \n",
    "    \n",
    "    \n",
    "    "
   ]
  },
  {
   "cell_type": "code",
   "execution_count": 94,
   "id": "fdb1f9f7",
   "metadata": {},
   "outputs": [
    {
     "name": "stdout",
     "output_type": "stream",
     "text": [
      "Accuracy: 93.12602169950902\n"
     ]
    }
   ],
   "source": [
    "#evaluation metrics\n",
    "\n",
    "print(\"Accuracy:\", r2_score(y_test,pred_test)*100)"
   ]
  },
  {
   "cell_type": "code",
   "execution_count": 95,
   "id": "9e1fe14f",
   "metadata": {},
   "outputs": [
    {
     "name": "stdout",
     "output_type": "stream",
     "text": [
      "At cross fold 2 the cv score is 90.17064197605747 and accuracy score for Training is 89.53616294800109 and accuracy score for Testing is 93.12602169950902\n",
      "\n",
      "\n",
      "At cross fold 3 the cv score is 89.73645562112824 and accuracy score for Training is 89.53616294800109 and accuracy score for Testing is 93.12602169950902\n",
      "\n",
      "\n",
      "At cross fold 4 the cv score is 89.86654359289577 and accuracy score for Training is 89.53616294800109 and accuracy score for Testing is 93.12602169950902\n",
      "\n",
      "\n",
      "At cross fold 5 the cv score is 89.58270968555071 and accuracy score for Training is 89.53616294800109 and accuracy score for Testing is 93.12602169950902\n",
      "\n",
      "\n",
      "At cross fold 6 the cv score is 89.87009469201537 and accuracy score for Training is 89.53616294800109 and accuracy score for Testing is 93.12602169950902\n",
      "\n",
      "\n",
      "At cross fold 7 the cv score is 89.49442949991982 and accuracy score for Training is 89.53616294800109 and accuracy score for Testing is 93.12602169950902\n",
      "\n",
      "\n",
      "At cross fold 8 the cv score is 89.80187277211998 and accuracy score for Training is 89.53616294800109 and accuracy score for Testing is 93.12602169950902\n",
      "\n",
      "\n",
      "At cross fold 9 the cv score is 89.38982316418993 and accuracy score for Training is 89.53616294800109 and accuracy score for Testing is 93.12602169950902\n",
      "\n",
      "\n"
     ]
    }
   ],
   "source": [
    "#cross validation at random state\n",
    "Train_accuracy=(r2_score(y_train,pred_train)*100)\n",
    "Test_accuracy=r2_score(y_test,pred_test)*100\n",
    "from sklearn.model_selection import cross_val_score\n",
    "for j in range(2,10):\n",
    "    cv_score=cross_val_score(lr,x,y,cv=j)\n",
    "    cv_mean=cv_score.mean()*100\n",
    "    print(f\"At cross fold {j} the cv score is {cv_mean} and accuracy score for Training is {Train_accuracy} and accuracy score for Testing is {Test_accuracy}\")\n",
    "    print(\"\\n\")\n",
    "    "
   ]
  },
  {
   "cell_type": "markdown",
   "id": "fb62b6a0",
   "metadata": {},
   "source": [
    "parameter tuning"
   ]
  },
  {
   "cell_type": "code",
   "execution_count": 96,
   "id": "fb843081",
   "metadata": {},
   "outputs": [
    {
     "name": "stdout",
     "output_type": "stream",
     "text": [
      "{'copy_X': True, 'fit_intercept': False, 'n_jobs': None, 'normalize': True, 'positive': True}\n"
     ]
    }
   ],
   "source": [
    "#perform gridsearchcv and cross val score on LinearRegression\n",
    "from sklearn.model_selection import GridSearchCV\n",
    "\n",
    "parameters={ 'fit_intercept':[True,False], 'normalize':[True,False], 'copy_X':[True,False], 'n_jobs':[None,1,-1], 'positive':[True,False]}\n",
    "lr=LinearRegression()\n",
    "clf=GridSearchCV(lr,parameters)\n",
    "clf.fit(x_train,y_train)\n",
    "print(clf.best_params_)\n",
    "\n",
    "                                  "
   ]
  },
  {
   "cell_type": "code",
   "execution_count": 97,
   "id": "cc4221d4",
   "metadata": {},
   "outputs": [
    {
     "name": "stdout",
     "output_type": "stream",
     "text": [
      "Accuracy score is: 93.12602169950902\n",
      "score of model is: 89.4225286904374\n"
     ]
    }
   ],
   "source": [
    "lr=LinearRegression(copy_X= True, fit_intercept= False, n_jobs= None, normalize= True, positive= True)\n",
    "lr.fit(x_train,y_train)\n",
    "pred_test_lr=lr.predict(x_test)\n",
    "pred_train_lr=lr.predict(x_train)\n",
    "lr_score = lr.score(x_train,y_train)\n",
    "lr_acc_score=r2_score(y_test,pred_test)\n",
    "print(\"Accuracy score is:\",lr_acc_score*100)\n",
    "print(\"score of model is:\",lr_score*100)"
   ]
  },
  {
   "cell_type": "code",
   "execution_count": 98,
   "id": "acdfd5d0",
   "metadata": {},
   "outputs": [
    {
     "name": "stdout",
     "output_type": "stream",
     "text": [
      "cv_mean is: 89.80502040902705\n"
     ]
    }
   ],
   "source": [
    "cv_score_lr=cross_val_score(lr,x,y,cv=5)\n",
    "cv_mean_lr=cv_score_lr.mean()\n",
    "print(\"cv_mean is:\",cv_mean_lr*100)"
   ]
  },
  {
   "cell_type": "code",
   "execution_count": 99,
   "id": "f359b5ec",
   "metadata": {},
   "outputs": [
    {
     "data": {
      "image/png": "[encoded data removed]",
      "text/plain": [
       "<Figure size 576x432 with 1 Axes>"
      ]
     },
     "metadata": {
      "needs_background": "light"
     },
     "output_type": "display_data"
    }
   ],
   "source": [
    "plt.figure(figsize=(8,6))\n",
    "plt.scatter(x=y_test,y=pred_test,color='r')\n",
    "plt.plot(y_test,y_test,color='b')\n",
    "plt.xlabel('Actual',fontsize=14)\n",
    "plt.ylabel('Predicted',fontsize=14)\n",
    "plt.title('Linear Regression',fontsize=18)\n",
    "plt.show()"
   ]
  },
  {
   "cell_type": "code",
   "execution_count": 100,
   "id": "21e64e9a",
   "metadata": {},
   "outputs": [
    {
     "name": "stdout",
     "output_type": "stream",
     "text": [
      "mean absolute error 1.1479692616985457\n",
      "mean squared error 2.2218205846176518\n",
      "Root mean squared error 1.4905772655644698\n",
      "r2_score is 93.12602169950902\n"
     ]
    }
   ],
   "source": [
    "#evaluation metrics\n",
    "print(\"mean absolute error\",mean_absolute_error(y_test,pred_test))\n",
    "print(\"mean squared error\",mean_squared_error(y_test,pred_test))\n",
    "print(\"Root mean squared error\",np.sqrt(mean_squared_error(y_test,pred_test)))\n",
    "print(\"r2_score is\",r2_score(y_test,pred_test)*100)"
   ]
  },
  {
   "cell_type": "markdown",
   "id": "c0415107",
   "metadata": {},
   "source": [
    "lasso regression"
   ]
  },
  {
   "cell_type": "code",
   "execution_count": 102,
   "id": "45251c17",
   "metadata": {},
   "outputs": [
    {
     "name": "stdout",
     "output_type": "stream",
     "text": [
      "{'alpha': 0.01, 'fit_intercept': False, 'normalize': True, 'random_state': 0, 'tol': 0.001}\n"
     ]
    }
   ],
   "source": [
    "#perform gridsearchcv and cross val score on lasso regression\n",
    "from sklearn.model_selection import GridSearchCV\n",
    "from sklearn.model_selection import cross_val_score\n",
    "import warnings\n",
    "warnings.filterwarnings('ignore')\n",
    "from sklearn.linear_model import Lasso\n",
    "parameters={'alpha':[0.0001,0.001,0.01,0.1,1,10],'random_state':list(range(0,10)),'fit_intercept':[True,False],'normalize':[True,False],'tol':[0.001]}\n",
    "ls=Lasso()\n",
    "clf=GridSearchCV(ls,parameters)\n",
    "clf.fit(x_train,y_train)\n",
    "print(clf.best_params_)\n"
   ]
  },
  {
   "cell_type": "code",
   "execution_count": 103,
   "id": "9f3acfc3",
   "metadata": {},
   "outputs": [
    {
     "name": "stdout",
     "output_type": "stream",
     "text": [
      "Accuracy score is: 92.34737994017821\n"
     ]
    }
   ],
   "source": [
    "ls=Lasso(alpha=0.01,random_state=0,fit_intercept= True, normalize= True,tol= 0.001)\n",
    "ls.fit(x_train,y_train)\n",
    "pred_test_ls=ls.predict(x_test)\n",
    "pred_train_ls=ls.predict(x_train)\n",
    "ls_score = ls.score(x_train,y_train)\n",
    "ls_acc_score=r2_score(y_test,pred_test_ls)\n",
    "print(\"Accuracy score is:\",ls_acc_score*100)\n"
   ]
  },
  {
   "cell_type": "code",
   "execution_count": 104,
   "id": "09aecd7d",
   "metadata": {},
   "outputs": [
    {
     "name": "stdout",
     "output_type": "stream",
     "text": [
      "At cv :- 9\n",
      "cv_score is: 89.55772453716186\n",
      "accuracy score---r2_score is 92.34737994017821\n",
      "At cv :- 9\n",
      "cv_score is: 89.55772453716186\n",
      "accuracy score---r2_score is 92.34737994017821\n",
      "At cv :- 9\n",
      "cv_score is: 89.55772453716186\n",
      "accuracy score---r2_score is 92.34737994017821\n",
      "At cv :- 9\n",
      "cv_score is: 89.55772453716186\n",
      "accuracy score---r2_score is 92.34737994017821\n",
      "At cv :- 9\n",
      "cv_score is: 89.55772453716186\n",
      "accuracy score---r2_score is 92.34737994017821\n",
      "At cv :- 9\n",
      "cv_score is: 89.55772453716186\n",
      "accuracy score---r2_score is 92.34737994017821\n",
      "At cv :- 9\n",
      "cv_score is: 89.55772453716186\n",
      "accuracy score---r2_score is 92.34737994017821\n",
      "At cv :- 9\n",
      "cv_score is: 89.55772453716186\n",
      "accuracy score---r2_score is 92.34737994017821\n"
     ]
    }
   ],
   "source": [
    "#checks cv score\n",
    "for u in range(2,10):\n",
    "    cv_score_ls=cross_val_score(ls,x,y,cv=5)\n",
    "    cv_mean_ls=cv_score_ls.mean()\n",
    "    print(\"At cv :-\",j )\n",
    "    print(\"cv_score is:\",cv_mean_ls*100)\n",
    "    print(\"accuracy score---r2_score is\",ls_acc_score*100)"
   ]
  },
  {
   "cell_type": "code",
   "execution_count": 105,
   "id": "fd9c5f8c",
   "metadata": {},
   "outputs": [
    {
     "name": "stdout",
     "output_type": "stream",
     "text": [
      "mean absolute error 1.209071748628825\n",
      "mean squared error 2.47349468268696\n",
      "Root mean squared error 1.5727347782404253\n",
      "r2_score is 92.34737994017821\n"
     ]
    }
   ],
   "source": [
    "#evaluation metrics\n",
    "print(\"mean absolute error\",mean_absolute_error(y_test,pred_test_ls))\n",
    "print(\"mean squared error\",mean_squared_error(y_test,pred_test_ls))\n",
    "print(\"Root mean squared error\",np.sqrt(mean_squared_error(y_test,pred_test_ls)))\n",
    "print(\"r2_score is\",r2_score(y_test,pred_test_ls)*100)"
   ]
  },
  {
   "cell_type": "code",
   "execution_count": 106,
   "id": "c47f88ec",
   "metadata": {},
   "outputs": [
    {
     "data": {
      "image/png": "[encoded data removed]",
      "text/plain": [
       "<Figure size 576x432 with 1 Axes>"
      ]
     },
     "metadata": {
      "needs_background": "light"
     },
     "output_type": "display_data"
    }
   ],
   "source": [
    "plt.figure(figsize=(8,6))\n",
    "plt.scatter(x=y_test,y=pred_test_ls,color='r')\n",
    "plt.plot(y_test,y_test,color='b')\n",
    "plt.xlabel('Actual',fontsize=14)\n",
    "plt.ylabel('Predicted',fontsize=14)\n",
    "plt.title('Lasso Regression',fontsize=18)\n",
    "plt.show()"
   ]
  },
  {
   "cell_type": "markdown",
   "id": "15c68517",
   "metadata": {},
   "source": [
    "thus the Lasso regression performs well here.all data points are near to best fit line"
   ]
  },
  {
   "cell_type": "markdown",
   "id": "86aa0d07",
   "metadata": {},
   "source": [
    "RandomForestRegressor"
   ]
  },
  {
   "cell_type": "code",
   "execution_count": 107,
   "id": "f8e68903",
   "metadata": {},
   "outputs": [
    {
     "name": "stdout",
     "output_type": "stream",
     "text": [
      "{'bootstrap': True, 'criterion': 'mae', 'max_features': 'auto', 'n_estimators': 100, 'random_state': 1}\n"
     ]
    }
   ],
   "source": [
    "#perform gridsearchcv and cross val score on RandomForestRegressor\n",
    "from sklearn.model_selection import GridSearchCV\n",
    "from sklearn.ensemble import RandomForestRegressor\n",
    "parameters={'criterion':['friedman_mse','mae'],'max_features':[\"auto\",\"sqrt\",\"log2\"],'n_estimators':[50,100],'random_state':list(range(0,7)),'bootstrap': [True, False]}\n",
    "rf=RandomForestRegressor()\n",
    "clf=GridSearchCV(rf,parameters)\n",
    "clf.fit(x_train,y_train)\n",
    "print(clf.best_params_)\n",
    "\n",
    "                                                      \n"
   ]
  },
  {
   "cell_type": "code",
   "execution_count": 108,
   "id": "187b0d0d",
   "metadata": {},
   "outputs": [
    {
     "name": "stdout",
     "output_type": "stream",
     "text": [
      "Accuracy score is: 93.12602169950902\n",
      "score of model is: 99.61673991513305\n"
     ]
    }
   ],
   "source": [
    "rf=RandomForestRegressor(criterion=\"mae\",max_features=\"auto\",n_estimators=100,random_state=1,bootstrap=True)\n",
    "rf.fit(x_train,y_train)\n",
    "pred_test_rf=rf.predict(x_test)\n",
    "pred_train_rf=rf.predict(x_train)\n",
    "rf_score = rf.score(x_train,y_train)\n",
    "rf_acc_score=r2_score(y_test,pred_test)\n",
    "print(\"Accuracy score is:\",rf_acc_score*100)\n",
    "print(\"score of model is:\",rf_score*100)"
   ]
  },
  {
   "cell_type": "code",
   "execution_count": 109,
   "id": "1ce6533b",
   "metadata": {},
   "outputs": [
    {
     "name": "stdout",
     "output_type": "stream",
     "text": [
      "cv_mean is: 97.70826362590995\n"
     ]
    }
   ],
   "source": [
    "cv_score_rf=cross_val_score(rf,x,y,cv=5)\n",
    "cv_mean_rf=cv_score_rf.mean()\n",
    "print(\"cv_mean is:\",cv_mean_rf*100)"
   ]
  },
  {
   "cell_type": "code",
   "execution_count": 110,
   "id": "c9538451",
   "metadata": {},
   "outputs": [
    {
     "name": "stdout",
     "output_type": "stream",
     "text": [
      "mean absolute error 0.6587749999999977\n",
      "mean squared error 0.646491324999998\n",
      "Root mean squared error 0.8040468425409044\n",
      "r2_score is 97.99985319684559\n"
     ]
    }
   ],
   "source": [
    "#evaluation metrics\n",
    "print(\"mean absolute error\",mean_absolute_error(y_test,pred_test_rf))\n",
    "print(\"mean squared error\",mean_squared_error(y_test,pred_test_rf))\n",
    "print(\"Root mean squared error\",np.sqrt(mean_squared_error(y_test,pred_test_rf)))\n",
    "print(\"r2_score is\",r2_score(y_test,pred_test_rf)*100)"
   ]
  },
  {
   "cell_type": "code",
   "execution_count": 113,
   "id": "4734bcfe",
   "metadata": {},
   "outputs": [
    {
     "data": {
      "image/png": "[encoded data removed]",
      "text/plain": [
       "<Figure size 576x432 with 1 Axes>"
      ]
     },
     "metadata": {
      "needs_background": "light"
     },
     "output_type": "display_data"
    }
   ],
   "source": [
    "plt.figure(figsize=(8,6))\n",
    "plt.scatter(x=y_test,y=pred_test_rf,color='r')\n",
    "plt.plot(y_test,y_test,color='b')\n",
    "plt.xlabel('Actual',fontsize=14)\n",
    "plt.ylabel('Predicted',fontsize=14)\n",
    "plt.title('Random Forest Regression',fontsize=18)\n",
    "plt.show()"
   ]
  },
  {
   "cell_type": "markdown",
   "id": "4373355c",
   "metadata": {},
   "source": [
    "Ridge Regressor"
   ]
  },
  {
   "cell_type": "code",
   "execution_count": 114,
   "id": "bfd8f68b",
   "metadata": {},
   "outputs": [
    {
     "name": "stdout",
     "output_type": "stream",
     "text": [
      "{'alpha': 0.1, 'fit_intercept': False, 'normalize': True, 'random_state': 0, 'tol': 0.001}\n"
     ]
    }
   ],
   "source": [
    "#perform gridsearchcv and cross val score on Ridge Regressor\n",
    "from sklearn.linear_model import Ridge\n",
    "parameters={'alpha':[0.0001,0.001,0.01,0.1,1],'fit_intercept':[True,False],'normalize':[True,False],'tol':[0.001],'random_state':list(range(0,10))}\n",
    "rd=Ridge()\n",
    "clf=GridSearchCV(rd,parameters)\n",
    "clf.fit(x_train,y_train)\n",
    "print(clf.best_params_)\n"
   ]
  },
  {
   "cell_type": "code",
   "execution_count": 115,
   "id": "1ee9676f",
   "metadata": {},
   "outputs": [
    {
     "name": "stdout",
     "output_type": "stream",
     "text": [
      "Accuracy score is: 93.3631429008751\n",
      "score of model is: 89.41990429061593\n"
     ]
    }
   ],
   "source": [
    "rd=Ridge(alpha=0.1,fit_intercept=False,normalize=True,random_state=0,tol=0.001)\n",
    "rd.fit(x_train,y_train)\n",
    "pred_test_rd=rd.predict(x_test)\n",
    "pred_train_rd=rd.predict(x_train)\n",
    "rd_score = rd.score(x_train,y_train)\n",
    "rd_acc_score=r2_score(y_test,pred_test_rd)\n",
    "print(\"Accuracy score is:\",rd_acc_score*100)\n",
    "print(\"score of model is:\",rd_score*100)"
   ]
  },
  {
   "cell_type": "code",
   "execution_count": 116,
   "id": "0319ba4c",
   "metadata": {},
   "outputs": [
    {
     "name": "stdout",
     "output_type": "stream",
     "text": [
      "cv_mean is: 89.8158863099927\n"
     ]
    }
   ],
   "source": [
    "cv_score_rd=cross_val_score(rd,x,y,cv=5)\n",
    "cv_mean_rd=cv_score_rd.mean()\n",
    "print(\"cv_mean is:\",cv_mean_rd*100)"
   ]
  },
  {
   "cell_type": "code",
   "execution_count": 117,
   "id": "4457aefe",
   "metadata": {},
   "outputs": [
    {
     "name": "stdout",
     "output_type": "stream",
     "text": [
      "mean absolute error 1.1307554015393961\n",
      "mean squared error 2.145177810489776\n",
      "Root mean squared error 1.464642553830038\n",
      "r2_score is 93.3631429008751\n"
     ]
    }
   ],
   "source": [
    "#evaluation metrics\n",
    "print(\"mean absolute error\",mean_absolute_error(y_test,pred_test_rd))\n",
    "print(\"mean squared error\",mean_squared_error(y_test,pred_test_rd))\n",
    "print(\"Root mean squared error\",np.sqrt(mean_squared_error(y_test,pred_test_rd)))\n",
    "print(\"r2_score is\",r2_score(y_test,pred_test_rd)*100)"
   ]
  },
  {
   "cell_type": "code",
   "execution_count": 118,
   "id": "049d0f07",
   "metadata": {},
   "outputs": [
    {
     "data": {
      "image/png": "[encoded data removed]",
      "text/plain": [
       "<Figure size 576x432 with 1 Axes>"
      ]
     },
     "metadata": {
      "needs_background": "light"
     },
     "output_type": "display_data"
    }
   ],
   "source": [
    "plt.figure(figsize=(8,6))\n",
    "plt.scatter(x=y_test,y=pred_test_rd,color='b')\n",
    "plt.plot(y_test,y_test,color='b')\n",
    "plt.xlabel('Actual',fontsize=14)\n",
    "plt.ylabel('Predicted',fontsize=14)\n",
    "plt.title('Ridge Regression',fontsize=18)\n",
    "plt.show()"
   ]
  },
  {
   "cell_type": "markdown",
   "id": "af182db6",
   "metadata": {},
   "source": [
    "thus the Ridge regression performs well here.all data points are near to best fit line"
   ]
  },
  {
   "cell_type": "markdown",
   "id": "5d1a6155",
   "metadata": {},
   "source": [
    "Decison Tree Regressor"
   ]
  },
  {
   "cell_type": "code",
   "execution_count": 119,
   "id": "4eb04b13",
   "metadata": {},
   "outputs": [
    {
     "name": "stdout",
     "output_type": "stream",
     "text": [
      "{'criterion': 'mae', 'max_features': 'auto', 'min_weight_fraction_leaf': 0.1, 'random_state': 0, 'splitter': 'best'}\n"
     ]
    }
   ],
   "source": [
    "#perform gridsearchcv and cross val score on Decison Tree Regressor\n",
    "from sklearn.model_selection import GridSearchCV\n",
    "from sklearn.tree import DecisionTreeRegressor\n",
    "parameters={'criterion':['mse','friedman_mse','mae','poisson'],'splitter':['best','random'],'max_features':['auto', 'sqrt', 'log2'],'random_state':list(range(0,10)),'min_weight_fraction_leaf':[0.1,0.2,0.3,0.4,0.5,0.6,0.7,0.8,0.9]}\n",
    "dt=DecisionTreeRegressor()\n",
    "clf=GridSearchCV(dt,parameters)\n",
    "clf.fit(x_train,y_train)\n",
    "print(clf.best_params_)\n",
    "\n",
    "                  "
   ]
  },
  {
   "cell_type": "code",
   "execution_count": 120,
   "id": "42298239",
   "metadata": {},
   "outputs": [
    {
     "name": "stdout",
     "output_type": "stream",
     "text": [
      "Accuracy score is: 93.12602169950902\n",
      "score of model is: 88.99551627135541\n"
     ]
    }
   ],
   "source": [
    "dt=DecisionTreeRegressor(criterion='mae',splitter='best',max_features='auto', min_weight_fraction_leaf= 0.1, random_state= 0)\n",
    "dt.fit(x_train,y_train)\n",
    "pred_test_dt=dt.predict(x_test)\n",
    "pred_train_dt=dt.predict(x_train)\n",
    "dt_score = dt.score(x_train,y_train)\n",
    "dt_acc_score=r2_score(y_test,pred_test)\n",
    "print(\"Accuracy score is:\",dt_acc_score*100)\n",
    "print(\"score of model is:\",dt_score*100)\n"
   ]
  },
  {
   "cell_type": "code",
   "execution_count": 121,
   "id": "a95d50b8",
   "metadata": {},
   "outputs": [
    {
     "name": "stdout",
     "output_type": "stream",
     "text": [
      "cv_mean is: 84.04861039443628\n"
     ]
    }
   ],
   "source": [
    "cv_score_dt=cross_val_score(dt,x,y,cv=5)\n",
    "cv_mean_dt=cv_score_dt.mean()\n",
    "print(\"cv_mean is:\",cv_mean_dt*100)"
   ]
  },
  {
   "cell_type": "code",
   "execution_count": 122,
   "id": "75ca47e6",
   "metadata": {},
   "outputs": [
    {
     "name": "stdout",
     "output_type": "stream",
     "text": [
      "mean absolute error 1.66875\n",
      "mean squared error 4.327062499999998\n",
      "Root mean squared error 2.0801592487115013\n",
      "r2_score is 86.6127202458218\n"
     ]
    }
   ],
   "source": [
    "#evaluation metrics\n",
    "print(\"mean absolute error\",mean_absolute_error(y_test,pred_test_dt))\n",
    "print(\"mean squared error\",mean_squared_error(y_test,pred_test_dt))\n",
    "print(\"Root mean squared error\",np.sqrt(mean_squared_error(y_test,pred_test_dt)))\n",
    "print(\"r2_score is\",r2_score(y_test,pred_test_dt)*100)"
   ]
  },
  {
   "cell_type": "code",
   "execution_count": 123,
   "id": "27e07341",
   "metadata": {},
   "outputs": [
    {
     "data": {
      "image/png": "[encoded data removed]",
      "text/plain": [
       "<Figure size 576x432 with 1 Axes>"
      ]
     },
     "metadata": {
      "needs_background": "light"
     },
     "output_type": "display_data"
    }
   ],
   "source": [
    "plt.figure(figsize=(8,6))\n",
    "plt.scatter(x=y_test,y=pred_test_dt,color='b')\n",
    "plt.plot(y_test,y_test,color='b')\n",
    "plt.xlabel('Actual',fontsize=14)\n",
    "plt.ylabel('Predicted',fontsize=14)\n",
    "plt.title('Decision Tree Regression',fontsize=18)\n",
    "plt.show()"
   ]
  },
  {
   "cell_type": "markdown",
   "id": "39fee1f3",
   "metadata": {},
   "source": [
    "thus the Decision Tree regression performs well here.all data points are near to best fit line"
   ]
  },
  {
   "cell_type": "markdown",
   "id": "a6596fc5",
   "metadata": {},
   "source": [
    "GradientBoostingRegressor"
   ]
  },
  {
   "cell_type": "code",
   "execution_count": 124,
   "id": "158317bd",
   "metadata": {},
   "outputs": [
    {
     "name": "stdout",
     "output_type": "stream",
     "text": [
      "{'criterion': 'friedman_mse', 'learning_rate': 0.05, 'loss': 'ls', 'max_depth': 9, 'min_weight_fraction_leaf': 0.1, 'n_estimators': 100}\n"
     ]
    }
   ],
   "source": [
    "#perform gridsearchcv and cross val score on  GradientBoostingRegressor\n",
    "from sklearn.datasets import make_regression\n",
    "from sklearn.ensemble import GradientBoostingRegressor\n",
    "parameters={'loss':['ls','lad','huber','quantile'],'n_estimators':[50,100],'criterion':['friedman_mse','mse'], 'learning_rate':[0.05],'max_depth' : [9,10,11],'min_weight_fraction_leaf':[0.1,0.2,0.3,0.4,0.5,0.6,0.7,0.8,0.9]}\n",
    "gbr=GradientBoostingRegressor()\n",
    "clf=GridSearchCV(gbr,parameters)\n",
    "clf.fit(x_train,y_train)\n",
    "print(clf.best_params_)\n",
    "\n"
   ]
  },
  {
   "cell_type": "code",
   "execution_count": 125,
   "id": "bf497001",
   "metadata": {},
   "outputs": [
    {
     "name": "stdout",
     "output_type": "stream",
     "text": [
      "Accuracy score is: 93.12602169950902\n",
      "score of model is: 98.2868165441404\n"
     ]
    }
   ],
   "source": [
    "gbr=GradientBoostingRegressor(criterion='friedman_mse',loss='ls',n_estimators= 100, learning_rate=0.05,max_depth=11, min_weight_fraction_leaf= 0.1)\n",
    "gbr.fit(x_train,y_train)\n",
    "pred_test_gbr=gbr.predict(x_test)\n",
    "pred_train_gbr=gbr.predict(x_train)\n",
    "gbr_score = gbr.score(x_train,y_train)\n",
    "gbr_acc_score=r2_score(y_test,pred_test)\n",
    "print(\"Accuracy score is:\",gbr_acc_score*100)\n",
    "print(\"score of model is:\",gbr_score*100)"
   ]
  },
  {
   "cell_type": "code",
   "execution_count": 126,
   "id": "4cb4748f",
   "metadata": {},
   "outputs": [
    {
     "name": "stdout",
     "output_type": "stream",
     "text": [
      "cv_mean is: 96.69848752200787\n"
     ]
    }
   ],
   "source": [
    "cv_score_gbr=cross_val_score(gbr,x,y,cv=5)\n",
    "cv_mean_gbr=cv_score_gbr.mean()\n",
    "print(\"cv_mean is:\",cv_mean_gbr*100)"
   ]
  },
  {
   "cell_type": "code",
   "execution_count": 127,
   "id": "ec7553b8",
   "metadata": {},
   "outputs": [
    {
     "name": "stdout",
     "output_type": "stream",
     "text": [
      "mean absolute error 0.6657749807301376\n",
      "mean squared error 0.8845802394090583\n",
      "Root mean squared error 0.9405212594136606\n",
      "r2_score is 97.26324194994017\n"
     ]
    }
   ],
   "source": [
    "#evaluation metrics\n",
    "print(\"mean absolute error\",mean_absolute_error(y_test,pred_test_gbr))\n",
    "print(\"mean squared error\",mean_squared_error(y_test,pred_test_gbr))\n",
    "print(\"Root mean squared error\",np.sqrt(mean_squared_error(y_test,pred_test_gbr)))\n",
    "print(\"r2_score is\",r2_score(y_test,pred_test_gbr)*100)"
   ]
  },
  {
   "cell_type": "code",
   "execution_count": 128,
   "id": "b251ee0b",
   "metadata": {},
   "outputs": [
    {
     "data": {
      "image/png": "[encoded data removed]",
      "text/plain": [
       "<Figure size 576x432 with 1 Axes>"
      ]
     },
     "metadata": {
      "needs_background": "light"
     },
     "output_type": "display_data"
    }
   ],
   "source": [
    "plt.figure(figsize=(8,6))\n",
    "plt.scatter(x=y_test,y=pred_test_gbr,color='b')\n",
    "plt.plot(y_test,y_test,color='b')\n",
    "plt.xlabel('Actual',fontsize=14)\n",
    "plt.ylabel('Predicted',fontsize=14)\n",
    "plt.title('Gradient Boosting Regression',fontsize=18)\n",
    "plt.show()"
   ]
  },
  {
   "cell_type": "markdown",
   "id": "2b512812",
   "metadata": {},
   "source": [
    "Support Vector Regressor"
   ]
  },
  {
   "cell_type": "code",
   "execution_count": 129,
   "id": "12a52ed8",
   "metadata": {},
   "outputs": [
    {
     "name": "stdout",
     "output_type": "stream",
     "text": [
      "{'degree': 3, 'gamma': 'scale', 'kernel': 'poly', 'max_iter': -1, 'shrinking': False, 'tol': 0.001}\n"
     ]
    }
   ],
   "source": [
    "#perform gridsearchcv and cross val score on Support Vector Regressor\n",
    "from sklearn.svm import SVR\n",
    "parameters ={'kernel':['linear','poly','rbf','sigmoid'],'gamma':['scale', 'auto'],'tol':[0.01,0.0001,0.001],'shrinking':[True,False],'degree':[3,4,5],'max_iter':[1,2,-1]}\n",
    "sv=SVR()\n",
    "clf=GridSearchCV(sv,parameters)\n",
    "clf.fit(x_train,y_train)\n",
    "print(clf.best_params_)\n"
   ]
  },
  {
   "cell_type": "code",
   "execution_count": 130,
   "id": "1c6a5461",
   "metadata": {},
   "outputs": [
    {
     "name": "stdout",
     "output_type": "stream",
     "text": [
      "Accuracy score is: 93.12602169950902\n",
      "score of model is: 94.8784102503791\n"
     ]
    }
   ],
   "source": [
    "sv=SVR(kernel='poly',gamma='scale',degree= 3,max_iter= -1, shrinking= False, tol= 0.001)\n",
    "sv.fit(x_train,y_train)\n",
    "pred_test_sv=sv.predict(x_test)\n",
    "pred_train_sv=sv.predict(x_train)\n",
    "sv_score = sv.score(x_train,y_train)\n",
    "sv_acc_score=r2_score(y_test,pred_test)\n",
    "print(\"Accuracy score is:\",sv_acc_score*100)\n",
    "print(\"score of model is:\",sv_score*100)"
   ]
  },
  {
   "cell_type": "code",
   "execution_count": 131,
   "id": "c00d13b9",
   "metadata": {},
   "outputs": [
    {
     "name": "stdout",
     "output_type": "stream",
     "text": [
      "cv_mean is: 93.77666573780665\n"
     ]
    }
   ],
   "source": [
    "cv_score_sv=cross_val_score(sv,x,y,cv=5)\n",
    "cv_mean_sv=cv_score_sv.mean()\n",
    "print(\"cv_mean is:\",cv_mean_sv*100)"
   ]
  },
  {
   "cell_type": "code",
   "execution_count": 132,
   "id": "347c24e1",
   "metadata": {},
   "outputs": [
    {
     "name": "stdout",
     "output_type": "stream",
     "text": [
      "mean absolute error 0.8388496710874744\n",
      "mean squared error 1.9037601327348437\n",
      "Root mean squared error 1.3797681445572092\n",
      "r2_score is 94.11005284028766\n"
     ]
    }
   ],
   "source": [
    "#evaluation metrics\n",
    "print(\"mean absolute error\",mean_absolute_error(y_test,pred_test_sv))\n",
    "print(\"mean squared error\",mean_squared_error(y_test,pred_test_sv))\n",
    "print(\"Root mean squared error\",np.sqrt(mean_squared_error(y_test,pred_test_sv)))\n",
    "print(\"r2_score is\",r2_score(y_test,pred_test_sv)*100)"
   ]
  },
  {
   "cell_type": "code",
   "execution_count": 133,
   "id": "87155dda",
   "metadata": {},
   "outputs": [
    {
     "data": {
      "image/png": "[encoded data removed]",
      "text/plain": [
       "<Figure size 576x432 with 1 Axes>"
      ]
     },
     "metadata": {
      "needs_background": "light"
     },
     "output_type": "display_data"
    }
   ],
   "source": [
    "plt.figure(figsize=(8,6))\n",
    "plt.scatter(x=y_test,y=pred_test_sv,color='b')\n",
    "plt.plot(y_test,y_test,color='b')\n",
    "plt.xlabel('Actual',fontsize=14)\n",
    "plt.ylabel('Predicted',fontsize=14)\n",
    "plt.title('Support Vector Regression',fontsize=18)\n",
    "plt.show()"
   ]
  },
  {
   "cell_type": "markdown",
   "id": "f1c76786",
   "metadata": {},
   "source": [
    "thus the Support Vector Regression performs well here.all data points are near to best fit line"
   ]
  },
  {
   "cell_type": "markdown",
   "id": "363d015d",
   "metadata": {},
   "source": [
    "#Elastic Net Regression(combination of L1 & L2)"
   ]
  },
  {
   "cell_type": "code",
   "execution_count": 134,
   "id": "08c5cfdc",
   "metadata": {},
   "outputs": [
    {
     "name": "stdout",
     "output_type": "stream",
     "text": [
      "{'alpha': 0.01, 'fit_intercept': False, 'normalize': True, 'random_state': 0, 'tol': 0.001}\n"
     ]
    }
   ],
   "source": [
    "from sklearn.linear_model import ElasticNet\n",
    "parameters={'alpha':[0.0001,0.001,0.01,0.1,1],'fit_intercept':[True,False],'normalize':[True,False],'tol':[0.001],'random_state':list(range(0,10))}\n",
    "enr=ElasticNet()\n",
    "clf=GridSearchCV(enr,parameters)\n",
    "clf.fit(x_train,y_train)\n",
    "print(clf.best_params_)"
   ]
  },
  {
   "cell_type": "code",
   "execution_count": 135,
   "id": "7d270b93",
   "metadata": {},
   "outputs": [
    {
     "name": "stdout",
     "output_type": "stream",
     "text": [
      "Accuracy score is: 93.12602169950902\n",
      "score of model is: 89.27158756205749\n"
     ]
    }
   ],
   "source": [
    "enr=ElasticNet(alpha=0.01,fit_intercept= False, normalize= True, random_state= 0, tol= 0.001)\n",
    "enr.fit(x_train,y_train)\n",
    "pred_test_enr=enr.predict(x_test)\n",
    "pred_train_enr=enr.predict(x_train)\n",
    "enr_score = enr.score(x_train,y_train)\n",
    "enr_acc_score=r2_score(y_test,pred_test)\n",
    "print(\"Accuracy score is:\",enr_acc_score*100)\n",
    "print(\"score of model is:\",enr_score*100)"
   ]
  },
  {
   "cell_type": "code",
   "execution_count": 136,
   "id": "17cf74e1",
   "metadata": {},
   "outputs": [
    {
     "name": "stdout",
     "output_type": "stream",
     "text": [
      "cv_mean is: 89.74519108542424\n"
     ]
    }
   ],
   "source": [
    "cv_score_enr=cross_val_score(enr,x,y,cv=5)\n",
    "cv_mean_enr=cv_score_enr.mean()\n",
    "print(\"cv_mean is:\",cv_mean_enr*100)"
   ]
  },
  {
   "cell_type": "code",
   "execution_count": 137,
   "id": "073eb3ca",
   "metadata": {},
   "outputs": [
    {
     "name": "stdout",
     "output_type": "stream",
     "text": [
      "mean absolute error 1.1848118641847531\n",
      "mean squared error 2.302725035516139\n",
      "Root mean squared error 1.5174732404613067\n",
      "r2_score is 92.87571551198891\n"
     ]
    }
   ],
   "source": [
    "#evaluation metrics\n",
    "print(\"mean absolute error\",mean_absolute_error(y_test,pred_test_enr))\n",
    "print(\"mean squared error\",mean_squared_error(y_test,pred_test_enr))\n",
    "print(\"Root mean squared error\",np.sqrt(mean_squared_error(y_test,pred_test_enr)))\n",
    "print(\"r2_score is\",r2_score(y_test,pred_test_enr)*100)"
   ]
  },
  {
   "cell_type": "code",
   "execution_count": 140,
   "id": "d646f13f",
   "metadata": {},
   "outputs": [
    {
     "data": {
      "image/png": "[encoded data removed]",
      "text/plain": [
       "<Figure size 576x432 with 1 Axes>"
      ]
     },
     "metadata": {
      "needs_background": "light"
     },
     "output_type": "display_data"
    }
   ],
   "source": [
    "plt.figure(figsize=(8,6))\n",
    "plt.scatter(x=y_test,y=pred_test_enr,color='r')\n",
    "plt.plot(y_test,y_test,color='b')\n",
    "plt.xlabel('Actual',fontsize=14)\n",
    "plt.ylabel('Predicted',fontsize=14)\n",
    "plt.title('Elastic Net Regression',fontsize=18)\n",
    "plt.show()"
   ]
  },
  {
   "cell_type": "markdown",
   "id": "454b006b",
   "metadata": {},
   "source": [
    "conclusion"
   ]
  },
  {
   "cell_type": "markdown",
   "id": "ac510bd9",
   "metadata": {},
   "source": [
    "Output"
   ]
  },
  {
   "cell_type": "code",
   "execution_count": 148,
   "id": "6ba66d1c",
   "metadata": {},
   "outputs": [
    {
     "data": {
      "text/html": [
       "<div>\n",
       "<style scoped>\n",
       "    .dataframe tbody tr th:only-of-type {\n",
       "        vertical-align: middle;\n",
       "    }\n",
       "\n",
       "    .dataframe tbody tr th {\n",
       "        vertical-align: top;\n",
       "    }\n",
       "\n",
       "    .dataframe thead th {\n",
       "        text-align: right;\n",
       "    }\n",
       "</style>\n",
       "<table border=\"1\" class=\"dataframe\">\n",
       "  <thead>\n",
       "    <tr style=\"text-align: right;\">\n",
       "      <th></th>\n",
       "      <th>Original</th>\n",
       "      <th>Predicted</th>\n",
       "    </tr>\n",
       "  </thead>\n",
       "  <tbody>\n",
       "    <tr>\n",
       "      <th>0</th>\n",
       "      <td>11.6</td>\n",
       "      <td>12.946376</td>\n",
       "    </tr>\n",
       "    <tr>\n",
       "      <th>1</th>\n",
       "      <td>6.6</td>\n",
       "      <td>6.551916</td>\n",
       "    </tr>\n",
       "    <tr>\n",
       "      <th>2</th>\n",
       "      <td>11.0</td>\n",
       "      <td>10.312724</td>\n",
       "    </tr>\n",
       "    <tr>\n",
       "      <th>3</th>\n",
       "      <td>9.5</td>\n",
       "      <td>8.557694</td>\n",
       "    </tr>\n",
       "    <tr>\n",
       "      <th>4</th>\n",
       "      <td>9.9</td>\n",
       "      <td>8.615453</td>\n",
       "    </tr>\n",
       "    <tr>\n",
       "      <th>5</th>\n",
       "      <td>11.4</td>\n",
       "      <td>12.574907</td>\n",
       "    </tr>\n",
       "    <tr>\n",
       "      <th>6</th>\n",
       "      <td>10.5</td>\n",
       "      <td>10.275069</td>\n",
       "    </tr>\n",
       "    <tr>\n",
       "      <th>7</th>\n",
       "      <td>13.4</td>\n",
       "      <td>12.534207</td>\n",
       "    </tr>\n",
       "    <tr>\n",
       "      <th>8</th>\n",
       "      <td>22.2</td>\n",
       "      <td>21.269505</td>\n",
       "    </tr>\n",
       "    <tr>\n",
       "      <th>9</th>\n",
       "      <td>20.8</td>\n",
       "      <td>20.944260</td>\n",
       "    </tr>\n",
       "    <tr>\n",
       "      <th>10</th>\n",
       "      <td>14.7</td>\n",
       "      <td>15.107999</td>\n",
       "    </tr>\n",
       "    <tr>\n",
       "      <th>11</th>\n",
       "      <td>23.2</td>\n",
       "      <td>21.107584</td>\n",
       "    </tr>\n",
       "    <tr>\n",
       "      <th>12</th>\n",
       "      <td>3.2</td>\n",
       "      <td>4.105272</td>\n",
       "    </tr>\n",
       "    <tr>\n",
       "      <th>13</th>\n",
       "      <td>17.1</td>\n",
       "      <td>17.641656</td>\n",
       "    </tr>\n",
       "    <tr>\n",
       "      <th>14</th>\n",
       "      <td>12.6</td>\n",
       "      <td>12.834856</td>\n",
       "    </tr>\n",
       "    <tr>\n",
       "      <th>15</th>\n",
       "      <td>7.6</td>\n",
       "      <td>4.797984</td>\n",
       "    </tr>\n",
       "    <tr>\n",
       "      <th>16</th>\n",
       "      <td>12.0</td>\n",
       "      <td>15.030839</td>\n",
       "    </tr>\n",
       "    <tr>\n",
       "      <th>17</th>\n",
       "      <td>24.7</td>\n",
       "      <td>21.039302</td>\n",
       "    </tr>\n",
       "    <tr>\n",
       "      <th>18</th>\n",
       "      <td>10.6</td>\n",
       "      <td>12.271240</td>\n",
       "    </tr>\n",
       "    <tr>\n",
       "      <th>19</th>\n",
       "      <td>16.0</td>\n",
       "      <td>15.873558</td>\n",
       "    </tr>\n",
       "    <tr>\n",
       "      <th>20</th>\n",
       "      <td>7.0</td>\n",
       "      <td>7.779236</td>\n",
       "    </tr>\n",
       "    <tr>\n",
       "      <th>21</th>\n",
       "      <td>8.5</td>\n",
       "      <td>8.841418</td>\n",
       "    </tr>\n",
       "    <tr>\n",
       "      <th>22</th>\n",
       "      <td>12.3</td>\n",
       "      <td>14.504802</td>\n",
       "    </tr>\n",
       "    <tr>\n",
       "      <th>23</th>\n",
       "      <td>10.7</td>\n",
       "      <td>9.538240</td>\n",
       "    </tr>\n",
       "    <tr>\n",
       "      <th>24</th>\n",
       "      <td>18.0</td>\n",
       "      <td>16.855871</td>\n",
       "    </tr>\n",
       "    <tr>\n",
       "      <th>25</th>\n",
       "      <td>22.6</td>\n",
       "      <td>20.414692</td>\n",
       "    </tr>\n",
       "    <tr>\n",
       "      <th>26</th>\n",
       "      <td>14.9</td>\n",
       "      <td>15.798988</td>\n",
       "    </tr>\n",
       "    <tr>\n",
       "      <th>27</th>\n",
       "      <td>10.3</td>\n",
       "      <td>9.313614</td>\n",
       "    </tr>\n",
       "    <tr>\n",
       "      <th>28</th>\n",
       "      <td>25.4</td>\n",
       "      <td>23.390488</td>\n",
       "    </tr>\n",
       "    <tr>\n",
       "      <th>29</th>\n",
       "      <td>11.4</td>\n",
       "      <td>10.896090</td>\n",
       "    </tr>\n",
       "    <tr>\n",
       "      <th>30</th>\n",
       "      <td>14.2</td>\n",
       "      <td>14.167224</td>\n",
       "    </tr>\n",
       "    <tr>\n",
       "      <th>31</th>\n",
       "      <td>19.0</td>\n",
       "      <td>18.742016</td>\n",
       "    </tr>\n",
       "    <tr>\n",
       "      <th>32</th>\n",
       "      <td>15.2</td>\n",
       "      <td>16.081371</td>\n",
       "    </tr>\n",
       "    <tr>\n",
       "      <th>33</th>\n",
       "      <td>15.0</td>\n",
       "      <td>17.495203</td>\n",
       "    </tr>\n",
       "    <tr>\n",
       "      <th>34</th>\n",
       "      <td>14.1</td>\n",
       "      <td>14.110869</td>\n",
       "    </tr>\n",
       "    <tr>\n",
       "      <th>35</th>\n",
       "      <td>11.3</td>\n",
       "      <td>10.804238</td>\n",
       "    </tr>\n",
       "    <tr>\n",
       "      <th>36</th>\n",
       "      <td>8.8</td>\n",
       "      <td>9.850172</td>\n",
       "    </tr>\n",
       "    <tr>\n",
       "      <th>37</th>\n",
       "      <td>25.4</td>\n",
       "      <td>22.447398</td>\n",
       "    </tr>\n",
       "    <tr>\n",
       "      <th>38</th>\n",
       "      <td>24.4</td>\n",
       "      <td>22.750499</td>\n",
       "    </tr>\n",
       "    <tr>\n",
       "      <th>39</th>\n",
       "      <td>20.2</td>\n",
       "      <td>20.133882</td>\n",
       "    </tr>\n",
       "  </tbody>\n",
       "</table>\n",
       "</div>"
      ],
      "text/plain": [
       "    Original  Predicted\n",
       "0       11.6  12.946376\n",
       "1        6.6   6.551916\n",
       "2       11.0  10.312724\n",
       "3        9.5   8.557694\n",
       "4        9.9   8.615453\n",
       "5       11.4  12.574907\n",
       "6       10.5  10.275069\n",
       "7       13.4  12.534207\n",
       "8       22.2  21.269505\n",
       "9       20.8  20.944260\n",
       "10      14.7  15.107999\n",
       "11      23.2  21.107584\n",
       "12       3.2   4.105272\n",
       "13      17.1  17.641656\n",
       "14      12.6  12.834856\n",
       "15       7.6   4.797984\n",
       "16      12.0  15.030839\n",
       "17      24.7  21.039302\n",
       "18      10.6  12.271240\n",
       "19      16.0  15.873558\n",
       "20       7.0   7.779236\n",
       "21       8.5   8.841418\n",
       "22      12.3  14.504802\n",
       "23      10.7   9.538240\n",
       "24      18.0  16.855871\n",
       "25      22.6  20.414692\n",
       "26      14.9  15.798988\n",
       "27      10.3   9.313614\n",
       "28      25.4  23.390488\n",
       "29      11.4  10.896090\n",
       "30      14.2  14.167224\n",
       "31      19.0  18.742016\n",
       "32      15.2  16.081371\n",
       "33      15.0  17.495203\n",
       "34      14.1  14.110869\n",
       "35      11.3  10.804238\n",
       "36       8.8   9.850172\n",
       "37      25.4  22.447398\n",
       "38      24.4  22.750499\n",
       "39      20.2  20.133882"
      ]
     },
     "execution_count": 148,
     "metadata": {},
     "output_type": "execute_result"
    }
   ],
   "source": [
    "import numpy as np\n",
    "a=np.array(y_test)\n",
    "predicted=np.array(rd.predict(x_test))\n",
    "df_con=pd.DataFrame({\"Original\":a,\"Predicted\":predicted},index=range(len(a)))\n",
    "df_con\n"
   ]
  },
  {
   "cell_type": "code",
   "execution_count": 153,
   "id": "165b2ed1",
   "metadata": {},
   "outputs": [],
   "source": [
    "import pickle\n",
    "filename='happy.pkl'\n",
    "pickle.dump(rd,open(filename,'wb'))\n"
   ]
  },
  {
   "cell_type": "code",
   "execution_count": 154,
   "id": "8ceb9bd7",
   "metadata": {},
   "outputs": [],
   "source": [
    "models=['Linear Regression','Lasso regression','RandomForestRegressor','Ridge Regressor','Decison Tree Regressor','GradientBoostingRegressor'\n",
    ",'Support Vector Regressor','ElasticNetRegressor']\n",
    "        \n"
   ]
  },
  {
   "cell_type": "code",
   "execution_count": 155,
   "id": "9a78c141",
   "metadata": {},
   "outputs": [
    {
     "data": {
      "text/plain": [
       "[93.12602169950902,\n",
       " 92.34737994017821,\n",
       " 93.12602169950902,\n",
       " 93.3631429008751,\n",
       " 93.12602169950902,\n",
       " 93.12602169950902,\n",
       " 93.12602169950902,\n",
       " 93.12602169950902]"
      ]
     },
     "execution_count": 155,
     "metadata": {},
     "output_type": "execute_result"
    }
   ],
   "source": [
    "scores=[ r2_score(y_test,pred_test)*100,ls_acc_score*100,rf_acc_score*100,rd_acc_score*100,dt_acc_score*100,gbr_acc_score*100,sv_acc_score*100,enr_acc_score*100]\n",
    "scores"
   ]
  },
  {
   "cell_type": "code",
   "execution_count": 156,
   "id": "d12b451d",
   "metadata": {},
   "outputs": [
    {
     "data": {
      "text/plain": [
       "[1, 2, 3, 4, 5, 6, 7, 8]"
      ]
     },
     "execution_count": 156,
     "metadata": {},
     "output_type": "execute_result"
    }
   ],
   "source": [
    "Nos=[]\n",
    "for i in range(1,len(models)+1):\n",
    "    Nos.append(i)\n",
    "Nos    "
   ]
  },
  {
   "cell_type": "code",
   "execution_count": 157,
   "id": "d39cf5d0",
   "metadata": {},
   "outputs": [
    {
     "data": {
      "text/html": [
       "<style  type=\"text/css\" >\n",
       "</style><table id=\"T_9fbfe_\" ><thead>    <tr>        <th class=\"col_heading level0 col0\" >Nos</th>        <th class=\"col_heading level0 col1\" >Model Names</th>        <th class=\"col_heading level0 col2\" >Scores</th>    </tr></thead><tbody>\n",
       "                <tr>\n",
       "                                <td id=\"T_9fbfe_row0_col0\" class=\"data row0 col0\" >1</td>\n",
       "                        <td id=\"T_9fbfe_row0_col1\" class=\"data row0 col1\" >Linear Regression</td>\n",
       "                        <td id=\"T_9fbfe_row0_col2\" class=\"data row0 col2\" >93.126022</td>\n",
       "            </tr>\n",
       "            <tr>\n",
       "                                <td id=\"T_9fbfe_row1_col0\" class=\"data row1 col0\" >2</td>\n",
       "                        <td id=\"T_9fbfe_row1_col1\" class=\"data row1 col1\" >Lasso regression</td>\n",
       "                        <td id=\"T_9fbfe_row1_col2\" class=\"data row1 col2\" >92.347380</td>\n",
       "            </tr>\n",
       "            <tr>\n",
       "                                <td id=\"T_9fbfe_row2_col0\" class=\"data row2 col0\" >3</td>\n",
       "                        <td id=\"T_9fbfe_row2_col1\" class=\"data row2 col1\" >RandomForestRegressor</td>\n",
       "                        <td id=\"T_9fbfe_row2_col2\" class=\"data row2 col2\" >93.126022</td>\n",
       "            </tr>\n",
       "            <tr>\n",
       "                                <td id=\"T_9fbfe_row3_col0\" class=\"data row3 col0\" >4</td>\n",
       "                        <td id=\"T_9fbfe_row3_col1\" class=\"data row3 col1\" >Ridge Regressor</td>\n",
       "                        <td id=\"T_9fbfe_row3_col2\" class=\"data row3 col2\" >93.363143</td>\n",
       "            </tr>\n",
       "            <tr>\n",
       "                                <td id=\"T_9fbfe_row4_col0\" class=\"data row4 col0\" >5</td>\n",
       "                        <td id=\"T_9fbfe_row4_col1\" class=\"data row4 col1\" >Decison Tree Regressor</td>\n",
       "                        <td id=\"T_9fbfe_row4_col2\" class=\"data row4 col2\" >93.126022</td>\n",
       "            </tr>\n",
       "            <tr>\n",
       "                                <td id=\"T_9fbfe_row5_col0\" class=\"data row5 col0\" >6</td>\n",
       "                        <td id=\"T_9fbfe_row5_col1\" class=\"data row5 col1\" >GradientBoostingRegressor</td>\n",
       "                        <td id=\"T_9fbfe_row5_col2\" class=\"data row5 col2\" >93.126022</td>\n",
       "            </tr>\n",
       "            <tr>\n",
       "                                <td id=\"T_9fbfe_row6_col0\" class=\"data row6 col0\" >7</td>\n",
       "                        <td id=\"T_9fbfe_row6_col1\" class=\"data row6 col1\" >Support Vector Regressor</td>\n",
       "                        <td id=\"T_9fbfe_row6_col2\" class=\"data row6 col2\" >93.126022</td>\n",
       "            </tr>\n",
       "            <tr>\n",
       "                                <td id=\"T_9fbfe_row7_col0\" class=\"data row7 col0\" >8</td>\n",
       "                        <td id=\"T_9fbfe_row7_col1\" class=\"data row7 col1\" >ElasticNetRegressor</td>\n",
       "                        <td id=\"T_9fbfe_row7_col2\" class=\"data row7 col2\" >93.126022</td>\n",
       "            </tr>\n",
       "    </tbody></table>"
      ],
      "text/plain": [
       "<pandas.io.formats.style.Styler at 0x29895a55400>"
      ]
     },
     "execution_count": 157,
     "metadata": {},
     "output_type": "execute_result"
    }
   ],
   "source": [
    "import pandas as pd\n",
    "Model_scores=pd.DataFrame({})\n",
    "Model_scores['Nos']=Nos\n",
    "Model_scores['Model Names']=models\n",
    "Model_scores['Scores']=scores\n",
    "Model_scores.style.hide_index()\n"
   ]
  },
  {
   "cell_type": "markdown",
   "id": "feb8c8fa",
   "metadata": {},
   "source": [
    "From the above models,Ridge Regression performs the best.so it it the best model.so we saved that model"
   ]
  },
  {
   "cell_type": "markdown",
   "id": "bbd6a981",
   "metadata": {},
   "source": [
    "we can conclude that Marketing through TV increases the total sales and for itself too "
   ]
  },
  {
   "cell_type": "code",
   "execution_count": null,
   "id": "5a7f22f1",
   "metadata": {},
   "outputs": [],
   "source": []
  },
  {
   "cell_type": "code",
   "execution_count": null,
   "id": "e64702ba",
   "metadata": {},
   "outputs": [],
   "source": []
  }
 ],
 "metadata": {
  "kernelspec": {
   "display_name": "Python 3",
   "language": "python",
   "name": "python3"
  },
  "language_info": {
   "codemirror_mode": {
    "name": "ipython",
    "version": 3
   },
   "file_extension": ".py",
   "mimetype": "text/x-python",
   "name": "python",
   "nbconvert_exporter": "python",
   "pygments_lexer": "ipython3",
   "version": "3.8.8"
  }
 },
 "nbformat": 4,
 "nbformat_minor": 5
}
